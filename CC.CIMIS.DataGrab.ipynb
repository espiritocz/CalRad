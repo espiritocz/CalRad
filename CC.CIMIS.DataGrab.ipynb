{
 "metadata": {
  "name": ""
 },
 "nbformat": 3,
 "nbformat_minor": 0,
 "worksheets": [
  {
   "cells": [
    {
     "cell_type": "code",
     "collapsed": false,
     "input": [
      "## Import statements\n",
      "import numpy as np\n",
      "\n",
      "import xray\n",
      "import pandas as pd\n",
      "\n",
      "from netCDF4 import Dataset\n",
      "\n",
      "from netCDF4 import num2date, date2num\n",
      "from datetime import datetime, timedelta\n",
      "import pytz\n",
      "\n",
      "# OS interaction\n",
      "import sys\n",
      "import os\n",
      "\n",
      "## Directory of .nc files\n",
      "workdir = '/Users/karllapo/gdrive/GroundObs/CA_CentralValley.UCDavis/RAW/CIMIS'"
     ],
     "language": "python",
     "metadata": {},
     "outputs": [],
     "prompt_number": 1
    },
    {
     "cell_type": "code",
     "collapsed": false,
     "input": [],
     "language": "python",
     "metadata": {},
     "outputs": []
    }
   ],
   "metadata": {}
  }
 ]
}