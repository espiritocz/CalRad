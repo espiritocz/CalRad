{
 "metadata": {
  "name": ""
 },
 "nbformat": 3,
 "nbformat_minor": 0,
 "worksheets": [
  {
   "cells": [
    {
     "cell_type": "code",
     "collapsed": false,
     "input": [
      "## Import statements\n",
      "import gc\n",
      "\n",
      "# netcdf\n",
      "from netCDF4 import Dataset,num2date, date2num\n",
      "import numpy as np\n",
      "from datetime import datetime, timedelta\n",
      "import pandas as pd\n",
      "\n",
      "# OS interaction\n",
      "import sys\n",
      "import os\n",
      "\n",
      "# OS interaction\n",
      "import sys\n",
      "import os\n",
      "\n",
      "## Directories\n",
      "datadir = '/Users/karllapo/gdrive/SnowHydrology/proj/CloudClimatology/data/'\n",
      "MODISdir = 'MODIS.IRRAD'\n",
      "SYNdir = 'CERES_SYN'\n",
      "VICdir = 'VIC_MTCLIM'\n",
      "NLDASdir = 'NLDAS'\n"
     ],
     "language": "python",
     "metadata": {},
     "outputs": []
    }
   ],
   "metadata": {}
  }
 ]
}