{
 "metadata": {
  "name": ""
 },
 "nbformat": 3,
 "nbformat_minor": 0,
 "worksheets": [
  {
   "cells": [
    {
     "cell_type": "code",
     "collapsed": false,
     "input": [
      "import numpy as np\n",
      "\n",
      "# Bounding box\n",
      "LL = [-120,34.5]\n",
      "LR = [-115,34.5]\n",
      "UR = [-118.5,41]\n",
      "UL = [-123.5,41]\n",
      "\n",
      "#Bounding box for CA study area\n",
      "lat = np.arange(25,52,.1)\n",
      "lon = np.arange(-125,-67,.1)\n",
      "# 2D array of lat-lon for operands below\n",
      "lat_m,lon_m = np.meshgrid(lat,lon)\n",
      "\n",
      "# Extract only within cartesian box - define lines of box\n",
      "line_west_m = (UL[1]-LL[1])/(UL[0]-LL[0])\n",
      "line_west_b = LL[1]-line_west_m*LL[0]\n",
      "line_east_m = (UR[1]-LR[1])/(UR[0]-LR[0])\n",
      "line_east_b = LR[1]-line_east_m*LR[0]\n",
      "\n",
      "ind = np.flatnonzero( (lon_m > (lat_m-line_west_b)/line_west_m) & (lon_m < (lat_m-line_east_b)/line_east_m) \\\n",
      "                         & (lat_m > LR[1]) & (lat_m < UL[1]))\n",
      "ind_lat,ind_lon = np.nonzero( (lon_m > (lat_m-line_west_b)/line_west_m) & (lon_m < (lat_m-line_east_b)/line_east_m) \\\n",
      "                         & (lat_m > LR[1]) & (lat_m < UL[1]))\n",
      "\n",
      "\n",
      "print(ind,ind.shape)\n",
      "print(ind_lat,ind_lon)\n",
      "print(ind_lat.shape,ind_lon.shape)"
     ],
     "language": "python",
     "metadata": {},
     "outputs": [
      {
       "output_type": "stream",
       "stream": "stdout",
       "text": [
        "(array([ 4479,  4747,  4748, ..., 26825, 26826, 27095]), (3250,))\n",
        "(array([ 16,  17,  17, ...,  99,  99, 100]), array([159, 157, 158, ...,  95,  96,  95]))\n",
        "((3250,), (3250,))\n"
       ]
      }
     ],
     "prompt_number": 18
    },
    {
     "cell_type": "code",
     "collapsed": false,
     "input": [
      "test = np.empty((2080,2080,60000))\n",
      "test2 = np.empty_like(test)\n",
      "test3 = np.empty_like(test)"
     ],
     "language": "python",
     "metadata": {},
     "outputs": [],
     "prompt_number": 26
    },
    {
     "cell_type": "code",
     "collapsed": false,
     "input": [
      "print(test.shape,test2.shape,test3.shape)\n"
     ],
     "language": "python",
     "metadata": {},
     "outputs": [
      {
       "output_type": "stream",
       "stream": "stdout",
       "text": [
        "((2080, 2080, 60000), (2080, 2080, 60000), (2080, 2080, 60000))\n"
       ]
      }
     ],
     "prompt_number": 27
    },
    {
     "cell_type": "code",
     "collapsed": false,
     "input": [
      "test.nbytes"
     ],
     "language": "python",
     "metadata": {},
     "outputs": [
      {
       "metadata": {},
       "output_type": "pyout",
       "prompt_number": 30,
       "text": [
        "2076672000000"
       ]
      }
     ],
     "prompt_number": 30
    },
    {
     "cell_type": "code",
     "collapsed": false,
     "input": [
      "gc.collect()"
     ],
     "language": "python",
     "metadata": {},
     "outputs": [
      {
       "metadata": {},
       "output_type": "pyout",
       "prompt_number": 24,
       "text": [
        "230"
       ]
      }
     ],
     "prompt_number": 24
    },
    {
     "cell_type": "code",
     "collapsed": false,
     "input": [],
     "language": "python",
     "metadata": {},
     "outputs": []
    }
   ],
   "metadata": {}
  }
 ]
}