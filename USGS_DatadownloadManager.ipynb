{
 "metadata": {
  "name": ""
 },
 "nbformat": 3,
 "nbformat_minor": 0,
 "worksheets": [
  {
   "cells": [
    {
     "cell_type": "code",
     "collapsed": false,
     "input": [
      "####################################################################################################\n",
      "# USGS_DatadownloadManager.ipynb\n",
      "# Karl Lapo July/2015\n",
      "####################################################################################################\n",
      "# DEM download manager\n",
      "####################################################################################################\n",
      "\n",
      "# must insert this statement to render the plots within the notebook\n",
      "# this is specific to the ipython notebook\n",
      "%matplotlib inline\n",
      "\n",
      "## Import statements\n",
      "# OS interaction\n",
      "import sys, pickle, os\n",
      "import pandas as pd\n",
      "\n",
      "# import subplots function for plotting\n",
      "import seaborn as sns\n",
      "import matplotlib\n",
      "from matplotlib.pyplot import subplots\n",
      "import matplotlib.pyplot as plt\n",
      "from matplotlib import cm\n",
      "from mpl_toolkits.basemap import Basemap\n",
      "\n",
      "## Directory listing\n",
      "dir_data = '/Users/karllapo/gdrive/SnowHydrology/proj/CloudClimatology/data/DEM'\n",
      "\n",
      "# Directory for basemap pickle files\n",
      "dir_bmap = '/Users/karllapo/gdrive/SnowHydrology/proj/CloudClimatology/data/basemap'"
     ],
     "language": "python",
     "metadata": {},
     "outputs": [],
     "prompt_number": 1
    },
    {
     "cell_type": "code",
     "collapsed": false,
     "input": [
      "os.chdir(dir_data)\n",
      "data_to_ftp = pd.read_csv('USGS.ftp_filelist.txt',sep='\\t',header=None)\n",
      "for ftp_address in data_to_ftp.values:\n",
      "#     os.system('wget '+ftp_address[0])\n",
      "    print('wget '+ftp_address[0])\n",
      "    \n"
     ],
     "language": "python",
     "metadata": {},
     "outputs": [
      {
       "output_type": "stream",
       "stream": "stdout",
       "text": [
        "wget ftp://rockyftp.cr.usgs.gov/vdelivery/Datasets/Staged/NED/13/GridFloat/n38w118.zip\n",
        "wget ftp://rockyftp.cr.usgs.gov/vdelivery/Datasets/Staged/NED/13/GridFloat/n41w118.zip\n",
        "wget ftp://rockyftp.cr.usgs.gov/vdelivery/Datasets/Staged/NED/13/GridFloat/n39w118.zip\n",
        "wget ftp://rockyftp.cr.usgs.gov/vdelivery/Datasets/Staged/NED/13/GridFloat/n38w119.zip\n",
        "wget ftp://rockyftp.cr.usgs.gov/vdelivery/Datasets/Staged/NED/13/GridFloat/n39w119.zip\n",
        "wget ftp://rockyftp.cr.usgs.gov/vdelivery/Datasets/Staged/NED/13/GridFloat/n36w118.zip\n",
        "wget ftp://rockyftp.cr.usgs.gov/vdelivery/Datasets/Staged/NED/13/GridFloat/n37w118.zip\n",
        "wget ftp://rockyftp.cr.usgs.gov/vdelivery/Datasets/Staged/NED/13/GridFloat/n41w120.zip\n",
        "wget ftp://rockyftp.cr.usgs.gov/vdelivery/Datasets/Staged/NED/13/GridFloat/n38w124.zip\n",
        "wget ftp://rockyftp.cr.usgs.gov/vdelivery/Datasets/Staged/NED/13/GridFloat/n41w119.zip\n",
        "wget ftp://rockyftp.cr.usgs.gov/vdelivery/Datasets/Staged/NED/13/GridFloat/n40w120.zip\n",
        "wget ftp://rockyftp.cr.usgs.gov/vdelivery/Datasets/Staged/NED/13/GridFloat/n36w119.zip\n",
        "wget ftp://rockyftp.cr.usgs.gov/vdelivery/Datasets/Staged/NED/13/GridFloat/n40w124.zip\n",
        "wget ftp://rockyftp.cr.usgs.gov/vdelivery/Datasets/Staged/NED/13/GridFloat/n37w121.zip\n",
        "wget ftp://rockyftp.cr.usgs.gov/vdelivery/Datasets/Staged/NED/13/GridFloat/n36w122.zip\n",
        "wget ftp://rockyftp.cr.usgs.gov/vdelivery/Datasets/Staged/NED/13/GridFloat/n38w121.zip\n",
        "wget ftp://rockyftp.cr.usgs.gov/vdelivery/Datasets/Staged/NED/13/GridFloat/n36w121.zip\n",
        "wget ftp://rockyftp.cr.usgs.gov/vdelivery/Datasets/Staged/NED/13/GridFloat/n41w124.zip\n",
        "wget ftp://rockyftp.cr.usgs.gov/vdelivery/Datasets/Staged/NED/13/GridFloat/n39w121.zip\n",
        "wget ftp://rockyftp.cr.usgs.gov/vdelivery/Datasets/Staged/NED/13/GridFloat/n36w120.zip\n",
        "wget ftp://rockyftp.cr.usgs.gov/vdelivery/Datasets/Staged/NED/13/GridFloat/n41w123.zip\n",
        "wget ftp://rockyftp.cr.usgs.gov/vdelivery/Datasets/Staged/NED/13/GridFloat/n40w123.zip\n",
        "wget ftp://rockyftp.cr.usgs.gov/vdelivery/Datasets/Staged/NED/13/GridFloat/n39w123.zip\n",
        "wget ftp://rockyftp.cr.usgs.gov/vdelivery/Datasets/Staged/NED/13/GridFloat/n38w120.zip\n",
        "wget ftp://rockyftp.cr.usgs.gov/vdelivery/Datasets/Staged/NED/13/GridFloat/n41w122.zip\n",
        "wget ftp://rockyftp.cr.usgs.gov/vdelivery/Datasets/Staged/NED/13/GridFloat/n42w118.zip\n",
        "wget ftp://rockyftp.cr.usgs.gov/vdelivery/Datasets/Staged/NED/13/GridFloat/n42w119.zip\n",
        "wget ftp://rockyftp.cr.usgs.gov/vdelivery/Datasets/Staged/NED/13/GridFloat/n42w121.zip\n",
        "wget ftp://rockyftp.cr.usgs.gov/vdelivery/Datasets/Staged/NED/13/GridFloat/n42w123.zip\n",
        "wget ftp://rockyftp.cr.usgs.gov/vdelivery/Datasets/Staged/NED/13/GridFloat/n42w124.zip\n",
        "wget ftp://rockyftp.cr.usgs.gov/vdelivery/Datasets/Staged/NED/13/GridFloat/n42w120.zip\n",
        "wget ftp://rockyftp.cr.usgs.gov/vdelivery/Datasets/Staged/NED/13/GridFloat/n38w117.zip\n",
        "wget ftp://rockyftp.cr.usgs.gov/vdelivery/Datasets/Staged/NED/13/GridFloat/n40w117.zip\n",
        "wget ftp://rockyftp.cr.usgs.gov/vdelivery/Datasets/Staged/NED/13/GridFloat/n41w117.zip\n",
        "wget ftp://rockyftp.cr.usgs.gov/vdelivery/Datasets/Staged/NED/13/GridFloat/n37w117.zip\n",
        "wget ftp://rockyftp.cr.usgs.gov/vdelivery/Datasets/Staged/NED/13/GridFloat/n35w121.zip\n",
        "wget ftp://rockyftp.cr.usgs.gov/vdelivery/Datasets/Staged/NED/13/GridFloat/n35w120.zip\n",
        "wget ftp://rockyftp.cr.usgs.gov/vdelivery/Datasets/Staged/NED/13/GridFloat/n35w117.zip\n",
        "wget ftp://rockyftp.cr.usgs.gov/vdelivery/Datasets/Staged/NED/13/GridFloat/n40w125.zip\n",
        "wget ftp://rockyftp.cr.usgs.gov/vdelivery/Datasets/Staged/NED/13/GridFloat/n42w125.zip\n"
       ]
      }
     ],
     "prompt_number": 14
    }
   ],
   "metadata": {}
  }
 ]
}