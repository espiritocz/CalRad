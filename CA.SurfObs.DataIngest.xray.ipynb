{
 "metadata": {
  "name": ""
 },
 "nbformat": 3,
 "nbformat_minor": 0,
 "worksheets": [
  {
   "cells": [
    {
     "cell_type": "code",
     "collapsed": false,
     "input": [
      "## Networks for import -- CIMIS and SIO/CDWR\n",
      "flag_xray_proc = 0\n",
      "\n",
      "## Import statements\n",
      "import numpy as np\n",
      "import xray\n",
      "import pandas as pd\n",
      "from netCDF4 import Dataset\n",
      "from netCDF4 import num2date, date2num\n",
      "from datetime import datetime, timedelta\n",
      "import pytz\n",
      "\n",
      "# OS interaction\n",
      "import sys\n",
      "import os"
     ],
     "language": "python",
     "metadata": {},
     "outputs": [],
     "prompt_number": 1
    },
    {
     "cell_type": "code",
     "collapsed": false,
     "input": [
      "## Directory Lists\n",
      "# General directories\n",
      "dir_data_out = '/Users/karllapo/gdrive/SnowHydrology/proj/CloudClimatology/data/GroundObs'\n",
      "dir_print = '/Users/karllapo/gdrive/SnowHydrology/proj/CloudClimatology/Graphics'\n",
      "\n",
      "# Individual data directories\n",
      "dir_cv_cimis_ucipm = '/Users/karllapo/gdrive/GroundObs/CA_CentralValley.UCDavis/RAW/CIMIS/UCDavis_IPM.Daily'\n",
      "dir_cv_cimis = '/Users/karllapo/gdrive/GroundObs/CA_CentralValley.UCDavis/RAW/CIMIS/CIMIS.Hourly'\n",
      "dir_sio_cdwr = '/Users/karllapo/gdrive/SnowHydrology/proj/CloudClimatology/data/GroundObs/YOS.SIO.Obs'\n",
      "# dir_cv_pestcast = '/Users/karllapo/gdrive/GroundObs/CA_CentralValley.UCDavis/RAW/PestCast'"
     ],
     "language": "python",
     "metadata": {},
     "outputs": [],
     "prompt_number": 2
    },
    {
     "cell_type": "code",
     "collapsed": false,
     "input": [
      "###########################################\n",
      "## Ground Obs - CIMIS, UC IPM & SIO-CDWR ##\n",
      "###########################################\n",
      "if flag_xray_proc == 1:\n",
      "    # Load previously formatted data (in xray format)\n",
      "#     os.chdir(dir_data_out)\n",
      "#     with xray.open_dataset('cimis_ucipm.obs.daily.xray.nc') as cimis_ucipm_daily:\n",
      "#         print(cimis_ucipm_daily.keys())\n",
      "    print('to be updated!')\n",
      "elif flag_xray_proc == 0:\n",
      "    \n",
      "    # Empty lists and dictionary literals\n",
      "    stations = []\n",
      "    lat = []\n",
      "    lon = []\n",
      "    elev = []\n",
      "    network = []\n",
      "    grobs = {}\n",
      "    \n",
      "    # time zone variables\n",
      "    tz_pst = pytz.timezone('US/Pacific')\n",
      "\n",
      "    ###########################\n",
      "    ##### READ CIMIS DATA #####\n",
      "    ###########################\n",
      "    # Read supporting station information\n",
      "    os.chdir(dir_data_out)\n",
      "    stdat = pd.read_csv('All_StationSummary.v2.csv',sep= ',', \\\n",
      "                    index_col=0,na_values=[-9999,'NaN']) # Read the supporting information\n",
      "    stdat = stdat.groupby('Network').get_group('CIMIS')\n",
      "    \n",
      "    # Files to read\n",
      "    os.chdir(dir_cv_cimis_ucipm)\n",
      "    content = os.listdir(os.getcwd())\n",
      "    num_files = len([name for name in os.listdir('.') if os.path.isfile(name)])\n",
      "        \n",
      "    for files in content:\n",
      "        # Only read .txt files\n",
      "        if files[-4:] == '.txt':\n",
      "            with open(files, 'r') as datafile:\n",
      "                # Skip the header of arbitrary size and read the column names\n",
      "                line = datafile.readline()\n",
      "                while not line.startswith('\"Station\"'):\n",
      "                    line = datafile.readline()\n",
      "                \n",
      "                ## format the header line for passing to 'read_csv'\n",
      "                line = line.replace('\\n','')\n",
      "                line = line.replace('\"', '')\n",
      "                col_names = line.split(',')\n",
      "                data = pd.read_csv(datafile, names=col_names, sep= ',', parse_dates={'Datetime' : [1,2]},\\\n",
      "                                   index_col='Datetime',skipinitialspace=True,converters={'Time': lambda x: str('2359')})\n",
      "                data.index = data.index.tz_localize(pytz.timezone('US/Pacific'))\n",
      "                \n",
      "                ## Read SW data, asign to PST, and get SW that passes QC\n",
      "                sitename = data['Station'][0][0:-2]\n",
      "                grobs[sitename] = data['Solar']\n",
      "                grobs[sitename].index = data.index\n",
      "                grobs[sitename] = pd.DataFrame(grobs[sitename])\n",
      "                grobs[sitename].columns =['SWdwn']\n",
      "    \n",
      "                ## Fill in elevation/lat/lon\n",
      "                if sitename in stdat.index:\n",
      "                    print((\"Processed Site: \"+sitename))\n",
      "                    elev.append(stdat.loc[sitename]['elevation (m)'])\n",
      "                    lat.append(stdat.loc[sitename]['lat'])\n",
      "                    lon.append(stdat.loc[sitename]['lon'])\n",
      "                    stations.append(sitename)\n",
      "                    network.append('CIMIS_IPM')\n",
      "                else:\n",
      "                    print((\"Site: \"+sitename+\" is missing from master list\"))\n",
      "                    \n",
      "    #########################\n",
      "    ##### READ SIO DATA #####\n",
      "    #########################\n",
      "    os.chdir(dir_sio_cdwr)\n",
      "    content = os.listdir(os.getcwd())\n",
      "    num_files = len([name for name in os.listdir('.') if os.path.isfile(name)])\n",
      "    \n",
      "     # Read supporting station information\n",
      "    os.chdir(dir_data_out)\n",
      "    stdat = pd.read_csv('All_StationSummary.v2.csv',sep= ',', \\\n",
      "                    index_col=0,na_values=[-9999,'NaN']) # Read the supporting information\n",
      "    stdat = stdat.groupby('Network').get_group('CDWR')\n",
      "   \n",
      "    for files in content:\n",
      "        # Only read QC formatted files\n",
      "        if files[-10:] == 'Rad.QC.txt':\n",
      "            sitename = files.split('.')[0]\n",
      "            stations.append(sitename)\n",
      "            na_value = ['   NaN']\n",
      "            \n",
      "            # Read SW data, asign to PST, and get SW that passes QC\n",
      "            grobs_yos = pd.read_csv(files,sep= '\\t', parse_dates=True, index_col=0, na_values=na_value)\n",
      "            grobs_yos.index = grobs_yos.index.tz_localize(pytz.utc).tz_convert(tz_pst)\n",
      "            grobs_yos['SWdwn_QC'] = grobs_yos['SWdwn_Wm^-2'].where(grobs_yos['QCFlag'] == 0)\n",
      "        \n",
      "            # New data frame w/ daily means\n",
      "            grobs_yos_daily = grobs_yos['SWdwn_Wm^-2'].resample('D', how='mean').to_frame(name='SWdwn_D')\n",
      "            grobs_yos_daily['SWdwn_D_QC'] = grobs_yos['SWdwn_QC'].resample('D', how='mean')\n",
      "            grobs_yos_daily['SWdwn_D_proc'] = grobs_yos['SWdwn_proc'].resample('D', how='mean')\n",
      "            \n",
      "            # List containing DataFrames with daily, processed only\n",
      "            grobs[sitename] = pd.DataFrame(grobs_yos_daily['SWdwn_D_proc'])\n",
      "            grobs[sitename].columns = ['SWdwn']\n",
      "            \n",
      "            # Fill in elevation/lat/lon/network\n",
      "            elev.append(stdat.loc[sitename]['elevation (m)'])\n",
      "            lat.append(stdat.loc[sitename]['lat'])\n",
      "            lon.append(stdat.loc[sitename]['lon'])\n",
      "            network.append('CDWR')\n",
      "            \n",
      "            print((\"Processed Site: \"+sitename))\n",
      "            \n",
      "    ########################\n",
      "    ##### COMBINE DATA #####\n",
      "    ########################\n",
      "    # Concatenate \n",
      "    grobs_daily = pd.concat(grobs,axis=0,keys=stations)\n",
      "    grobs_daily = pd.DataFrame(grobs_daily)\n",
      "\n",
      "    # Convert to xray\n",
      "    ds = xray.Dataset.from_dataframe(grobs_daily)\n",
      "    ds = ds.rename({'level_0':'station','level_1':'time'})\n",
      "    \n",
      "    # Fill in descriptive variables\n",
      "    ds.coords['lat'] = ('station',lat)\n",
      "    ds.coords['lon'] = ('station',lon)\n",
      "    ds.coords['elev'] = ('station',elev)\n",
      "    ds.coords['network'] = ('station',network)\n",
      "    \n",
      "    ## Output to netcdf\n",
      "    os.chdir(dir_data_out)\n",
      "    ds.to_netcdf('CA.grobs_combined.daily.xray.nc')"
     ],
     "language": "python",
     "metadata": {},
     "outputs": [
      {
       "output_type": "stream",
       "stream": "stdout",
       "text": [
        "Processed Site: Alpaugh\n",
        "Processed Site: ALTURAS"
       ]
      },
      {
       "output_type": "stream",
       "stream": "stdout",
       "text": [
        "\n",
        "Processed Site: ARVIN"
       ]
      },
      {
       "output_type": "stream",
       "stream": "stdout",
       "text": [
        "\n",
        "Processed Site: ARYOSECO"
       ]
      },
      {
       "output_type": "stream",
       "stream": "stdout",
       "text": [
        "\n",
        "Processed Site: ATASCADERO"
       ]
      },
      {
       "output_type": "stream",
       "stream": "stdout",
       "text": [
        "\n",
        "Processed Site: Auburn"
       ]
      },
      {
       "output_type": "stream",
       "stream": "stdout",
       "text": [
        "\n",
        "Processed Site: BENNETT_VALLEY"
       ]
      },
      {
       "output_type": "stream",
       "stream": "stdout",
       "text": [
        "\n",
        "Processed Site: Big_Bear_Lake"
       ]
      },
      {
       "output_type": "stream",
       "stream": "stdout",
       "text": [
        "\n",
        "Processed Site: BISHOP"
       ]
      },
      {
       "output_type": "stream",
       "stream": "stdout",
       "text": [
        "\n",
        "Processed Site: Black_Point"
       ]
      },
      {
       "output_type": "stream",
       "stream": "stdout",
       "text": [
        "\n",
        "Processed Site: BLACKWLL"
       ]
      },
      {
       "output_type": "stream",
       "stream": "stdout",
       "text": [
        "\n",
        "Processed Site: BLYTHE_NE"
       ]
      },
      {
       "output_type": "stream",
       "stream": "stdout",
       "text": [
        "\n",
        "Processed Site: Borrego_Springs"
       ]
      },
      {
       "output_type": "stream",
       "stream": "stdout",
       "text": [
        "\n",
        "Processed Site: BRNTWOOD"
       ]
      },
      {
       "output_type": "stream",
       "stream": "stdout",
       "text": [
        "\n",
        "Processed Site: BRWNSVLY"
       ]
      },
      {
       "output_type": "stream",
       "stream": "stdout",
       "text": [
        "\n",
        "Processed Site: BRYTE"
       ]
      },
      {
       "output_type": "stream",
       "stream": "stdout",
       "text": [
        "\n",
        "Processed Site: BUNTNGVL"
       ]
      },
      {
       "output_type": "stream",
       "stream": "stdout",
       "text": [
        "\n",
        "Processed Site: CAMARILLO"
       ]
      },
      {
       "output_type": "stream",
       "stream": "stdout",
       "text": [
        "\n",
        "Processed Site: CAMINO"
       ]
      },
      {
       "output_type": "stream",
       "stream": "stdout",
       "text": [
        "\n",
        "Processed Site: Carmel"
       ]
      },
      {
       "output_type": "stream",
       "stream": "stdout",
       "text": [
        "\n",
        "Processed Site: CASTROVL"
       ]
      },
      {
       "output_type": "stream",
       "stream": "stdout",
       "text": [
        "\n",
        "Processed Site: Coalinga"
       ]
      },
      {
       "output_type": "stream",
       "stream": "stdout",
       "text": [
        "\n",
        "Processed Site: COLUSA"
       ]
      },
      {
       "output_type": "stream",
       "stream": "stdout",
       "text": [
        "\n",
        "Processed Site: CONCORD"
       ]
      },
      {
       "output_type": "stream",
       "stream": "stdout",
       "text": [
        "\n",
        "Processed Site: CUYAMA"
       ]
      },
      {
       "output_type": "stream",
       "stream": "stdout",
       "text": [
        "\n",
        "Processed Site: DAVIS"
       ]
      },
      {
       "output_type": "stream",
       "stream": "stdout",
       "text": [
        "\n",
        "Processed Site: Delano"
       ]
      },
      {
       "output_type": "stream",
       "stream": "stdout",
       "text": [
        "\n",
        "Processed Site: Denair_II"
       ]
      },
      {
       "output_type": "stream",
       "stream": "stdout",
       "text": [
        "\n",
        "Processed Site: Diamond_Springs"
       ]
      },
      {
       "output_type": "stream",
       "stream": "stdout",
       "text": [
        "\n",
        "Processed Site: DIXON"
       ]
      },
      {
       "output_type": "stream",
       "stream": "stdout",
       "text": [
        "\n",
        "Processed Site: DURHAM"
       ]
      },
      {
       "output_type": "stream",
       "stream": "stdout",
       "text": [
        "\n",
        "Processed Site: Esparto"
       ]
      },
      {
       "output_type": "stream",
       "stream": "stdout",
       "text": [
        "\n",
        "Processed Site: FAIR_OAKS"
       ]
      },
      {
       "output_type": "stream",
       "stream": "stdout",
       "text": [
        "\n",
        "Processed Site: FAMOSO"
       ]
      },
      {
       "output_type": "stream",
       "stream": "stdout",
       "text": [
        "\n",
        "Processed Site: FIREBAGH"
       ]
      },
      {
       "output_type": "stream",
       "stream": "stdout",
       "text": [
        "\n",
        "Processed Site: Five_Points_SW"
       ]
      },
      {
       "output_type": "stream",
       "stream": "stdout",
       "text": [
        "\n",
        "Processed Site: FIVE_PTS"
       ]
      },
      {
       "output_type": "stream",
       "stream": "stdout",
       "text": [
        "\n",
        "Processed Site: FRESNO"
       ]
      },
      {
       "output_type": "stream",
       "stream": "stdout",
       "text": [
        "\n",
        "Processed Site: GERBER"
       ]
      },
      {
       "output_type": "stream",
       "stream": "stdout",
       "text": [
        "\n",
        "Processed Site: Gilroy"
       ]
      },
      {
       "output_type": "stream",
       "stream": "stdout",
       "text": [
        "\n",
        "Processed Site: Hastings_Tract_East"
       ]
      },
      {
       "output_type": "stream",
       "stream": "stdout",
       "text": [
        "\n",
        "Processed Site: HOLLISTR"
       ]
      },
      {
       "output_type": "stream",
       "stream": "stdout",
       "text": [
        "\n",
        "Processed Site: HOPLAND"
       ]
      },
      {
       "output_type": "stream",
       "stream": "stdout",
       "text": [
        "\n",
        "Processed Site: HOPLAND2"
       ]
      },
      {
       "output_type": "stream",
       "stream": "stdout",
       "text": [
        "\n",
        "Processed Site: KESTERSN"
       ]
      },
      {
       "output_type": "stream",
       "stream": "stdout",
       "text": [
        "\n",
        "Processed Site: KETTLMAN"
       ]
      },
      {
       "output_type": "stream",
       "stream": "stdout",
       "text": [
        "\n",
        "Processed Site: KINGCTY2"
       ]
      },
      {
       "output_type": "stream",
       "stream": "stdout",
       "text": [
        "\n",
        "Processed Site: Laguna_Seca"
       ]
      },
      {
       "output_type": "stream",
       "stream": "stdout",
       "text": [
        "\n",
        "Processed Site: LINDCOVE"
       ]
      },
      {
       "output_type": "stream",
       "stream": "stdout",
       "text": [
        "\n",
        "Processed Site: LODI_WEST"
       ]
      },
      {
       "output_type": "stream",
       "stream": "stdout",
       "text": [
        "\n",
        "Processed Site: LOSBANOS"
       ]
      },
      {
       "output_type": "stream",
       "stream": "stdout",
       "text": [
        "\n",
        "Processed Site: LOST_HILLS"
       ]
      },
      {
       "output_type": "stream",
       "stream": "stdout",
       "text": [
        "\n",
        "Processed Site: MANTECA"
       ]
      },
      {
       "output_type": "stream",
       "stream": "stdout",
       "text": [
        "\n",
        "Processed Site: MCARTHUR"
       ]
      },
      {
       "output_type": "stream",
       "stream": "stdout",
       "text": [
        "\n",
        "Processed Site: MERCED"
       ]
      },
      {
       "output_type": "stream",
       "stream": "stdout",
       "text": [
        "\n",
        "Processed Site: MODESTO"
       ]
      },
      {
       "output_type": "stream",
       "stream": "stdout",
       "text": [
        "\n",
        "Processed Site: MORAGA"
       ]
      },
      {
       "output_type": "stream",
       "stream": "stdout",
       "text": [
        "\n",
        "Processed Site: NAPA"
       ]
      },
      {
       "output_type": "stream",
       "stream": "stdout",
       "text": [
        "\n",
        "Processed Site: Nipomo"
       ]
      },
      {
       "output_type": "stream",
       "stream": "stdout",
       "text": [
        "\n",
        "Processed Site: NSALINAS"
       ]
      },
      {
       "output_type": "stream",
       "stream": "stdout",
       "text": [
        "\n",
        "Processed Site: Oakdale"
       ]
      },
      {
       "output_type": "stream",
       "stream": "stdout",
       "text": [
        "\n",
        "Processed Site: OAKVILLE"
       ]
      },
      {
       "output_type": "stream",
       "stream": "stdout",
       "text": [
        "\n",
        "Processed Site: ORANGE_COVE"
       ]
      },
      {
       "output_type": "stream",
       "stream": "stdout",
       "text": [
        "\n",
        "Processed Site: Owens_Lake_North"
       ]
      },
      {
       "output_type": "stream",
       "stream": "stdout",
       "text": [
        "\n",
        "Processed Site: Owens_Lake_South"
       ]
      },
      {
       "output_type": "stream",
       "stream": "stdout",
       "text": [
        "\n",
        "Processed Site: Pacific_Grove"
       ]
      },
      {
       "output_type": "stream",
       "stream": "stdout",
       "text": [
        "\n",
        "Processed Site: PAJARO"
       ]
      },
      {
       "output_type": "stream",
       "stream": "stdout",
       "text": [
        "\n",
        "Processed Site: PANOCHE"
       ]
      },
      {
       "output_type": "stream",
       "stream": "stdout",
       "text": [
        "\n",
        "Processed Site: PARLIER"
       ]
      },
      {
       "output_type": "stream",
       "stream": "stdout",
       "text": [
        "\n",
        "Processed Site: PATTERSON"
       ]
      },
      {
       "output_type": "stream",
       "stream": "stdout",
       "text": [
        "\n",
        "Processed Site: PETALUMA_EAST"
       ]
      },
      {
       "output_type": "stream",
       "stream": "stdout",
       "text": [
        "\n",
        "Processed Site: Pleasanton"
       ]
      },
      {
       "output_type": "stream",
       "stream": "stdout",
       "text": [
        "\n",
        "Processed Site: Plymouth_II"
       ]
      },
      {
       "output_type": "stream",
       "stream": "stdout",
       "text": [
        "\n",
        "Processed Site: Point_San_Pedro"
       ]
      },
      {
       "output_type": "stream",
       "stream": "stdout",
       "text": [
        "\n",
        "Processed Site: PORTERVILLE"
       ]
      },
      {
       "output_type": "stream",
       "stream": "stdout",
       "text": [
        "\n",
        "Processed Site: SAN_LUIS_OBISPO_W"
       ]
      },
      {
       "output_type": "stream",
       "stream": "stdout",
       "text": [
        "\n",
        "Processed Site: Santa_Maria_II"
       ]
      },
      {
       "output_type": "stream",
       "stream": "stdout",
       "text": [
        "\n",
        "Processed Site: Shasta_College\n",
        "Processed Site: SISQUOC"
       ]
      },
      {
       "output_type": "stream",
       "stream": "stdout",
       "text": [
        "\n",
        "Processed Site: SJ_VALLEY"
       ]
      },
      {
       "output_type": "stream",
       "stream": "stdout",
       "text": [
        "\n",
        "Processed Site: SNLUIS_O"
       ]
      },
      {
       "output_type": "stream",
       "stream": "stdout",
       "text": [
        "\n",
        "Processed Site: SNTACRUZ"
       ]
      },
      {
       "output_type": "stream",
       "stream": "stdout",
       "text": [
        "\n",
        "Processed Site: SNTAROSA"
       ]
      },
      {
       "output_type": "stream",
       "stream": "stdout",
       "text": [
        "\n",
        "Processed Site: STRATFRD"
       ]
      },
      {
       "output_type": "stream",
       "stream": "stdout",
       "text": [
        "\n",
        "Processed Site: TRACY"
       ]
      },
      {
       "output_type": "stream",
       "stream": "stdout",
       "text": [
        "\n",
        "Processed Site: TRNQULTY"
       ]
      },
      {
       "output_type": "stream",
       "stream": "stdout",
       "text": [
        "\n",
        "Processed Site: TWITCHELL_ISLAND"
       ]
      },
      {
       "output_type": "stream",
       "stream": "stdout",
       "text": [
        "\n",
        "Processed Site: UNION_CITY"
       ]
      },
      {
       "output_type": "stream",
       "stream": "stdout",
       "text": [
        "\n",
        "Processed Site: Verona"
       ]
      },
      {
       "output_type": "stream",
       "stream": "stdout",
       "text": [
        "\n",
        "Processed Site: VICTRVIL"
       ]
      },
      {
       "output_type": "stream",
       "stream": "stdout",
       "text": [
        "\n",
        "Processed Site: Watsonville_West-2"
       ]
      },
      {
       "output_type": "stream",
       "stream": "stdout",
       "text": [
        "\n",
        "Processed Site: WINDSOR"
       ]
      },
      {
       "output_type": "stream",
       "stream": "stdout",
       "text": [
        "\n",
        "Processed Site: WINTERS"
       ]
      },
      {
       "output_type": "stream",
       "stream": "stdout",
       "text": [
        "\n",
        "Processed Site: Woodland"
       ]
      },
      {
       "output_type": "stream",
       "stream": "stdout",
       "text": [
        "\n",
        "Processed Site: bee"
       ]
      },
      {
       "output_type": "stream",
       "stream": "stdout",
       "text": [
        "\n",
        "Processed Site: dan"
       ]
      },
      {
       "output_type": "stream",
       "stream": "stdout",
       "text": [
        "\n",
        "Processed Site: dep"
       ]
      },
      {
       "output_type": "stream",
       "stream": "stdout",
       "text": [
        "\n",
        "Processed Site: for"
       ]
      },
      {
       "output_type": "stream",
       "stream": "stdout",
       "text": [
        "\n",
        "Processed Site: fsl"
       ]
      },
      {
       "output_type": "stream",
       "stream": "stdout",
       "text": [
        "\n",
        "Processed Site: gin"
       ]
      },
      {
       "output_type": "stream",
       "stream": "stdout",
       "text": [
        "\n",
        "Processed Site: gld"
       ]
      },
      {
       "output_type": "stream",
       "stream": "stdout",
       "text": [
        "\n",
        "Processed Site: hod"
       ]
      },
      {
       "output_type": "stream",
       "stream": "stdout",
       "text": [
        "\n",
        "Processed Site: lee"
       ]
      },
      {
       "output_type": "stream",
       "stream": "stdout",
       "text": [
        "\n",
        "Processed Site: mer"
       ]
      },
      {
       "output_type": "stream",
       "stream": "stdout",
       "text": [
        "\n",
        "Processed Site: olm"
       ]
      },
      {
       "output_type": "stream",
       "stream": "stdout",
       "text": [
        "\n",
        "Processed Site: oth"
       ]
      },
      {
       "output_type": "stream",
       "stream": "stdout",
       "text": [
        "\n",
        "Processed Site: piu"
       ]
      },
      {
       "output_type": "stream",
       "stream": "stdout",
       "text": [
        "\n",
        "Processed Site: pri"
       ]
      },
      {
       "output_type": "stream",
       "stream": "stdout",
       "text": [
        "\n",
        "Processed Site: smi"
       ]
      },
      {
       "output_type": "stream",
       "stream": "stdout",
       "text": [
        "\n",
        "Processed Site: smj"
       ]
      },
      {
       "output_type": "stream",
       "stream": "stdout",
       "text": [
        "\n",
        "Processed Site: stb"
       ]
      },
      {
       "output_type": "stream",
       "stream": "stdout",
       "text": [
        "\n",
        "Processed Site: sun"
       ]
      },
      {
       "output_type": "stream",
       "stream": "stdout",
       "text": [
        "\n",
        "Processed Site: vvw"
       ]
      },
      {
       "output_type": "stream",
       "stream": "stdout",
       "text": [
        "\n"
       ]
      }
     ],
     "prompt_number": 5
    }
   ],
   "metadata": {}
  }
 ]
}