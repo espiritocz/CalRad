{
 "cells": [
  {
   "cell_type": "code",
   "execution_count": 1,
   "metadata": {
    "collapsed": true
   },
   "outputs": [],
   "source": [
    "# must insert this statement to render the plots within the notebook\n",
    "# this is specific to the ipython notebook\n",
    "%matplotlib inline\n",
    "\n",
    "## Import statements\n",
    "# netcdf/numpy/xray/stats\n",
    "import numpy as np\n",
    "import xray\n",
    "import pandas as pd\n",
    "from netCDF4 import Dataset\n",
    "from netCDF4 import num2date, date2num\n",
    "from datetime import datetime, timedelta\n",
    "import pytz\n",
    "import kray #### Custom functions for manipulating xray structures\n",
    "\n",
    "# import subplots function for plotting\n",
    "import seaborn as sns\n",
    "import matplotlib\n",
    "from matplotlib.pyplot import subplots\n",
    "import matplotlib.pyplot as plt\n",
    "from matplotlib import cm\n",
    "from mpl_toolkits.basemap import Basemap\n",
    "import kgraph\n",
    "\n",
    "# Solargeometry\n",
    "import solargeo\n",
    "\n",
    "# OS interaction\n",
    "import sys\n",
    "import os\n",
    "\n",
    "## Directory Lists\n",
    "# General directories\n",
    "dir_data = '/Users/karllapo/gdrive/SnowHydrology/proj/CloudClimatology/data'\n",
    "dir_grobs = '/GroundObs'\n",
    "dir_print = '/Users/karllapo/gdrive/SnowHydrology/proj/CloudClimatology/Graphics'\n",
    "dir_bmap = '/Users/karllapo/gdrive/SnowHydrology/proj/CloudClimatology/data/basemap'\n",
    "\n",
    "# Individual data directories\n",
    "dir_cv_cimis_ucipm = '/Users/karllapo/gdrive/GroundObs/CA_CentralValley.UCDavis/RAW/CIMIS/UCDavis_IPM.Daily'\n",
    "dir_cv_cimis = '/Users/karllapo/gdrive/GroundObs/CA_CentralValley.UCDavis/RAW/CIMIS/CIMIS.Hourly'\n",
    "dir_sio_cdwr = '/Users/karllapo/gdrive/SnowHydrology/proj/CloudClimatology/data/GroundObs/YOS.SIO.Obs'"
   ]
  },
  {
   "cell_type": "code",
   "execution_count": 14,
   "metadata": {
    "collapsed": false
   },
   "outputs": [
    {
     "name": "stdout",
     "output_type": "stream",
     "text": [
      "Processed Site: bee\n",
      "Processed Site: dan\n",
      "Processed Site: dep\n",
      "Processed Site: for\n",
      "Processed Site: fsl\n",
      "Processed Site: gin\n",
      "Processed Site: gld\n",
      "Processed Site: hod\n",
      "Processed Site: lee\n",
      "Processed Site: mer\n",
      "Processed Site: olm\n",
      "Processed Site: oth\n",
      "Processed Site: piu\n",
      "Processed Site: pri\n",
      "Processed Site: smi\n",
      "Processed Site: smj\n",
      "Processed Site: stb\n",
      "Processed Site: sun\n",
      "Processed Site: vvw\n"
     ]
    }
   ],
   "source": [
    "###################\n",
    "## READ SIO DATA ##\n",
    "###################\n",
    " # Read supporting station information\n",
    "os.chdir(dir_data+dir_grobs)\n",
    "stdat = pd.read_csv('All_StationSummary.v2.csv',sep= ',', \\\n",
    "                index_col=0,na_values=[-9999,'NaN']) # Read the supporting information\n",
    "stdat = stdat.groupby('Network').get_group('CDWR')\n",
    "\n",
    "os.chdir(dir_sio_cdwr)\n",
    "content = os.listdir(os.getcwd())\n",
    "num_files = len([name for name in os.listdir('.') if os.path.isfile(name)])\n",
    "\n",
    "# Empty lists and dictionary literals\n",
    "stations = []\n",
    "lat = []\n",
    "lon = []\n",
    "elev = []\n",
    "network = []\n",
    "grobs_yos = {}\n",
    "\n",
    "# time zone variables\n",
    "tz_pst = pytz.timezone('US/Pacific')\n",
    "\n",
    "na_value = ['   NaN']\n",
    "\n",
    "for files in content:\n",
    "    # Only read QC formatted files\n",
    "    if files[-10:] == 'Rad.QC.txt':\n",
    "        sitename = files.split('.')[0]\n",
    "        stations.append(sitename)\n",
    "\n",
    "        # Read SW data, asign to PST, and get SW that passes QC\n",
    "        grobs_yos[sitename] = pd.read_csv(files,sep= '\\t', parse_dates=True, index_col=0, na_values=na_value)\n",
    "        grobs_yos[sitename].index = grobs_yos[sitename].index.tz_localize(pytz.utc).tz_convert(tz_pst)\n",
    "        grobs_yos[sitename]['SWdwn_QC'] = grobs_yos[sitename]['SWdwn_Wm^-2'].where(grobs_yos[sitename]['QCFlag'] == 0)\n",
    "\n",
    "        # New data frame w/ daily means\n",
    "#         grobs_yos_daily = grobs_yos['SWdwn_Wm^-2'].resample('D', how='mean').to_frame(name='SWdwn_D')\n",
    "#         grobs_yos_daily['SWdwn_D_QC'] = grobs_yos['SWdwn_QC'].resample('D', how='mean')\n",
    "#         grobs_yos_daily['SWdwn_D_proc'] = grobs_yos['SWdwn_proc'].resample('D', how='mean')\n",
    "\n",
    "#         # List containing DataFrames with daily, processed only\n",
    "#         grobs[sitename] = pd.DataFrame(grobs_yos['SWdwn_D_proc'])\n",
    "#         grobs[sitename].columns = ['SWdwn']\n",
    "\n",
    "        # Fill in elevation/lat/lon/network\n",
    "        elev.append(stdat.loc[sitename]['elevation (m)'])\n",
    "        lat.append(stdat.loc[sitename]['lat'])\n",
    "        lon.append(stdat.loc[sitename]['lon'])\n",
    "        network.append('CDWR')\n",
    "        \n",
    "        print((\"Processed Site: \"+sitename))"
   ]
  },
  {
   "cell_type": "code",
   "execution_count": 39,
   "metadata": {
    "collapsed": false
   },
   "outputs": [
    {
     "name": "stdout",
     "output_type": "stream",
     "text": [
      "<xray.Dataset>\n",
      "Dimensions:     (station: 19, time: 142831)\n",
      "Coordinates:\n",
      "  * station     (station) object 'bee' 'dan' 'dep' 'for' 'fsl' 'gin' 'gld' ...\n",
      "  * time        (time) datetime64[ns] 2004-08-27T01:30:00 ...\n",
      "    latitude    (station) float64 37.53 37.9 37.63 37.77 37.48 37.77 37.52 ...\n",
      "    longitude   (station) float64 118.3 119.3 119.1 119.9 118.4 119.8 118.3 ...\n",
      "    elev        (station) float64 2.768e+03 2.987e+03 2.307e+03 1.72e+03 ...\n",
      "    network     (station) |S4 'CDWR' 'CDWR' 'CDWR' 'CDWR' 'CDWR' 'CDWR' ...\n",
      "    Grouping    (station) object 'east of crest' 'west of crest' ...\n",
      "Data variables:\n",
      "    SWdwn_raw   (station, time) float64 nan nan nan nan nan nan nan nan nan ...\n",
      "    QCFlag      (station, time) float64 nan nan nan nan nan nan nan nan nan ...\n",
      "    SWdwn_proc  (station, time) float64 nan nan nan nan nan nan nan nan nan ...\n",
      "    SWdwn_QC    (station, time) float64 nan nan nan nan nan nan nan nan nan ...\n"
     ]
    }
   ],
   "source": [
    "#####################\n",
    "## convert to xray ##\n",
    "#####################\n",
    "# Concatenate \n",
    "grobs = pd.concat(grobs_yos,axis=0,keys=stations)\n",
    "grobs = pd.DataFrame(grobs)\n",
    "\n",
    "# Convert to xray\n",
    "grobs = xray.Dataset.from_dataframe(grobs)\n",
    "grobs = grobs.rename({'level_0':'station','datetime':'time','SWdwn_Wm^-2':'SWdwn_raw'})\n",
    "\n",
    "# Fill in descriptive variables\n",
    "grobs.coords['latitude'] = ('station',lat)\n",
    "grobs.coords['longitude'] = ('station',lon)\n",
    "grobs.coords['elev'] = ('station',elev)\n",
    "grobs.coords['network'] = ('station',network)\n",
    "\n",
    "# Append station classification\n",
    "os.chdir(dir_data+dir_grobs)\n",
    "# Station data excel speadsheet\n",
    "stdat = pd.read_csv('All_StationSummary.v2.csv',sep= ',', \\\n",
    "                index_col=0,na_values=[-9999,'NaN']) # Read the supporting information\n",
    "# station data -> xray structure\n",
    "stdat = xray.Dataset(coords={'station': (['station'], stdat.index), \\\n",
    "                             'Grouping': (['station'],  stdat.Grouping)})\n",
    "\n",
    "# Merge into ground observation structure\n",
    "grobs = grobs.merge(stdat,join='inner')\n",
    "\n",
    "print(grobs)"
   ]
  },
  {
   "cell_type": "code",
   "execution_count": 56,
   "metadata": {
    "collapsed": false
   },
   "outputs": [],
   "source": [
    "#### Elevation Angle\n",
    "d = pd.to_datetime(grobs.time.values)\n",
    "el = xray.Dataset()\n",
    "for stat in grobs.station.values:\n",
    "    el[stat] = (('time'),solargeo.AVG_EL(d,\\\n",
    "                     grobs.loc[{'station':stat}].latitude.values,\\\n",
    "                     grobs.loc[{'station':stat}].longitude.values,\\\n",
    "                     8,'END'))\n",
    "el = kray.combinevars(el,el.data_vars,new_dim_name='station',combinevarname='el')\n",
    "el.coords['time'] = d\n",
    "\n",
    "# Add to xray Dataset\n",
    "grobs['el'] = (('station','time'),el)"
   ]
  },
  {
   "cell_type": "code",
   "execution_count": 66,
   "metadata": {
    "collapsed": false
   },
   "outputs": [
    {
     "data": {
      "image/png": "[encoded data removed]",
      "text/plain": [
       "<matplotlib.figure.Figure at 0x113c25e50>"
      ]
     },
     "metadata": {},
     "output_type": "display_data"
    }
   ],
   "source": [
    "#### Example of raw, QC, and proc at gin flats (known shading)\n",
    "fig,axes = plt.subplots(1,2,sharey=True,figsize=(8,4))\n",
    "axes[0].plot(grobs.el.sel(station='gin').values,grobs.SWdwn_proc.sel(station='gin').values,'.')\n",
    "axes[1].plot(grobs.el.sel(station='gin').values,grobs.SWdwn_raw.sel(station='gin').values,'.')\n",
    "for ax in axes:\n",
    "    ax.set_ylim(0,1200)\n",
    "    ax.set_xlim(0,75)"
   ]
  },
  {
   "cell_type": "code",
   "execution_count": 84,
   "metadata": {
    "collapsed": false
   },
   "outputs": [
    {
     "name": "stdout",
     "output_type": "stream",
     "text": [
      "<xray.DataArray 'SWdwn_proc' (time: 2976, station: 18)>\n",
      "array([[False,  True, False, ..., False, False, False],\n",
      "       [False,  True, False, ..., False, False, False],\n",
      "       [False,  True, False, ..., False, False, False],\n",
      "       ..., \n",
      "       [False, False,  True, ..., False,  True, False],\n",
      "       [False, False, False, ..., False,  True, False],\n",
      "       [False, False, False, ..., False,  True, False]], dtype=bool)\n",
      "Coordinates:\n",
      "    network    (station) |S4 'CDWR' 'CDWR' 'CDWR' 'CDWR' 'CDWR' 'CDWR' ...\n",
      "    longitude  (station) float64 118.3 119.3 119.1 119.9 118.4 119.8 118.3 ...\n",
      "  * station    (station) object 'bee' 'dan' 'dep' 'for' 'fsl' 'gin' 'gld' ...\n",
      "    elev       (station) float64 2.768e+03 2.987e+03 2.307e+03 1.72e+03 ...\n",
      "  * time       (time) datetime64[ns] 2004-08-27 2004-08-28 2004-08-29 ...\n",
      "    latitude   (station) float64 37.53 37.9 37.63 37.77 37.48 37.77 37.52 ...\n",
      "    Grouping   (station) object 'east of crest' 'west of crest' ...\n"
     ]
    }
   ],
   "source": [
    "#### Further refinement:\n",
    "# Remove the 'smj' station -- excessively bad\n",
    "grobs = grobs.drop(['smj'],dim='station')\n",
    "\n",
    "# - remove months with > 10% gaps\n",
    "# - set 0 daily means to nan\n",
    "## Resample, exclude months w/ > 10% gaps\n",
    "grobs_day = grobs.resample(freq='D', dim='time', how='mean')\n",
    "grobs_day.SWdwn_proc.values[grobs_day.SWdwn_proc.values == 0] = np.nan\n",
    "numdays_permonth = (~np.isnan(grobs_day['SWdwn_proc']))\n",
    "print(numdays_permonth)\n",
    "# .resample(freq='M', dim='time', how='mean')\n",
    "# grobs_month = grobs_day.resample(freq='M', dim='time', how='mean')\n",
    "# ds.SWdwn.values[numdays_permonth.values < .9] = np.nan"
   ]
  }
 ],
 "metadata": {
  "kernelspec": {
   "display_name": "Python [Root]",
   "language": "python",
   "name": "Python [Root]"
  },
  "language_info": {
   "codemirror_mode": {
    "name": "ipython",
    "version": 3
   },
   "file_extension": ".py",
   "mimetype": "text/x-python",
   "name": "python",
   "nbconvert_exporter": "python",
   "pygments_lexer": "ipython3",
   "version": "3.5.2"
  }
 },
 "nbformat": 4,
 "nbformat_minor": 0
}
