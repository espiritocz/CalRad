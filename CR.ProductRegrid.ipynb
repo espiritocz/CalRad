{
 "metadata": {
  "name": ""
 },
 "nbformat": 3,
 "nbformat_minor": 0,
 "worksheets": [
  {
   "cells": [
    {
     "cell_type": "code",
     "collapsed": false,
     "input": [
      "##### Header #####\n",
      "# Performs statistical analysis on all data sets over CA study area\n",
      "\n",
      "# must insert this statement to render the plots within the notebook\n",
      "# this is specific to the ipython notebook\n",
      "%matplotlib inline\n",
      "\n",
      "## FLAGS for processing\n",
      "flag_getdata = 0              # Load and process raw data (1)? Or load pre-processed data (0)?\n",
      "\n",
      "## Import statements\n",
      "# netcdf/numpy/xray\n",
      "from netCDF4 import num2date, date2num\n",
      "import numpy as np\n",
      "from datetime import datetime, timedelta\n",
      "import pickle\n",
      "import pandas as pd\n",
      "import xray\n",
      "import scipy\n",
      "\n",
      "# OS interaction\n",
      "import sys\n",
      "import os\n",
      "\n",
      "# import subplots function for plotting\n",
      "import seaborn as sns\n",
      "import matplotlib\n",
      "from matplotlib.pyplot import subplots\n",
      "import matplotlib.pyplot as plt\n",
      "from matplotlib import cm\n",
      "from mpl_toolkits.basemap import Basemap\n",
      "\n",
      "## Directory listing\n",
      "dir_data = '/Users/karllapo/gdrive/SnowHydrology/proj/CloudClimatology/data'\n",
      "dir_print = '/Users/karllapo/gdrive/SnowHydrology/proj/CloudClimatology/Graphics'\n",
      "\n",
      "# List of sub-directory names for each data set\n",
      "dir_NLDAS = '/NLDAS'\n",
      "dir_SYN = '/CERES_SYN'\n",
      "dir_grobs = '/GroundObs'\n",
      "dir_VIC = '/VIC_MTCLIM'\n",
      "dir_MODIS = '/MODIS.IRRAD'"
     ],
     "language": "python",
     "metadata": {},
     "outputs": [],
     "prompt_number": 1
    },
    {
     "cell_type": "code",
     "collapsed": false,
     "input": [
      "####################################\n",
      "## Read previously processed data ##\n",
      "####################################\n",
      "# ///// See CC.CA.StatisticsMaps.Master for details on creation of xray data \n",
      "\n",
      "###########\n",
      "## NLDAS ##\n",
      "os.chdir(dir_data+dir_NLDAS)\n",
      "nldas = xray.open_dataset('CA.NLDAS.irrad.monthly.nc')\n",
      "nldas = nldas.rename({'DLWRF_110_SFC':'LWdwn','DSWRF_110_SFC':'SWdwn'})\n",
      "\n",
      "#########\n",
      "## SYN ##\n",
      "os.chdir(dir_data+dir_SYN)\n",
      "syn = xray.open_dataset('CA.syn.irrad.monthly.nc')\n",
      "syn.longitude.values = syn.longitude.values-360\n",
      "syn.latitude.values = syn.latitude.values[::-1]\n",
      "# Flip the syn array spatially\n",
      "for d in np.arange(syn.time.size):\n",
      "    syn.SWdwn.values[d-1,:,:] = np.flipud(syn.SWdwn.values[d-1,:,:])\n",
      "    syn.LWdwn.values[d-1,:,:] = np.flipud(syn.LWdwn.values[d-1,:,:])\n",
      "\n",
      "############\n",
      "## MTCLIM ##\n",
      "os.chdir(dir_data+dir_VIC)\n",
      "mtclim = xray.open_dataset('CA.MTCLIM.irrad.monthly.nc')\n",
      "\n",
      "#########################\n",
      "## Ground Observations ##\n",
      "os.chdir(dir_data+dir_grobs)\n",
      "grobs = xray.open_dataset('CA.grobs.irrad.monthly.nc')\n",
      "grobs.SWdwn.values[grobs.SWdwn.values == 0] = np.nan\n",
      "grobs = grobs.rename({'lon':'longitude','lat':'latitude'})\n",
      "grobs.longitude.values = -grobs.longitude.values\n",
      "\n",
      "###########\n",
      "## MODIS ##\n",
      "os.chdir(dir_data+dir_MODIS)\n",
      "modis = xray.open_dataset('CA.MODIS.irrad.monthly.nc')\n",
      "modis.SWdwn.values[modis.SWdwn.values == 0] = np.nan\n",
      "modis = modis.rename({'lon':'longitude','lat':'latitude'})\n"
     ],
     "language": "python",
     "metadata": {},
     "outputs": [],
     "prompt_number": 2
    },
    {
     "cell_type": "code",
     "collapsed": false,
     "input": [
      "### Re-Gridding Function ###\n",
      "# Converts from_xray_ds spatial resolution to to_xray_ds using a nearest neighbor approach.\n",
      "# Assumes arrays are ['time','lat','lon']\n",
      "def xray_regrid(from_xray_ds,to_xray_ds,field):\n",
      "    ## Coordinates to regrid to\n",
      "    lat_rg = to_xray_ds.latitude.values\n",
      "    nlat_rg = lat_rg.size\n",
      "    lon_rg = to_xray_ds.longitude.values\n",
      "    nlon_rg = lon_rg.size\n",
      "    lonm_rg,latm_rg = np.meshgrid(lon_rg,lat_rg)\n",
      "    \n",
      "    ## Coordinates of original dataset\n",
      "    lat_g = from_xray_ds.latitude.values\n",
      "    nlat_g = lat_g.size\n",
      "    lon_g = from_xray_ds.longitude.values\n",
      "    nlon_g = lon_g.size\n",
      "    lonm_g,latm_g = np.meshgrid(lon_g,lat_g)\n",
      "    latm_g = np.reshape(latm_g[:],(nlat_g*nlon_g,1))\n",
      "    lonm_g = np.reshape(lonm_g[:],(nlat_g*nlon_g,1))\n",
      "    \n",
      "    ## Combine coordinates\n",
      "    grid_points = np.append(lonm_g[:],latm_g[:],axis=1)\n",
      "    regrid_points = (lonm_rg,latm_rg)\n",
      "    \n",
      "    ## Interpolate in space dimension, along time dimension\n",
      "    dates = from_xray_ds.time\n",
      "    regrid = np.empty((dates.size,nlat_rg,nlon_rg))\n",
      "    for ind,d in enumerate(dates):\n",
      "        ## Use loc or sel here instead of values w/ indexing\n",
      "        grid = np.reshape(np.squeeze(from_xray_ds[field].values[ind,:,:]),(nlat_g*nlon_g))\n",
      "        regrid[ind,:,:] = scipy.interpolate.griddata(grid_points,grid,regrid_points,method='nearest') \n",
      "        \n",
      "    ## Output to xray structure\n",
      "    regrid_xray_ds = xray.Dataset({field: (['time','lat','lon'], regrid)},coords={'time': dates,'lat': lat_rg,'lon':lon_rg})\n",
      "    return(regrid_xray_ds)\n",
      "\n",
      "# To do: handle more than one field/convert entire data structure"
     ],
     "language": "python",
     "metadata": {},
     "outputs": [],
     "prompt_number": 3
    },
    {
     "cell_type": "code",
     "collapsed": false,
     "input": [
      "### Re-grid to mtclim spatial scale\n",
      "# Q: do all coordinates represent the same thing? (e.g., lat-lon = lower left corner? \n",
      "# Should I convert to center of grid labeling scheme?\n",
      "regrid_ds = {}\n",
      "regrid_ds['nldas'] = xray_regrid(nldas,mtclim,'SWdwn')\n",
      "regrid_ds['syn'] = xray_regrid(syn,mtclim,'SWdwn')\n",
      "regrid_ds['modis'] = xray_regrid(modis,mtclim,'SWdwn')\n",
      "regrid_ds['modis'].SWdwn.loc['latitude' < modis.latitude.values.min()] = np.nan\n",
      "regrid_ds['mtclim'] = mtclim"
     ],
     "language": "python",
     "metadata": {},
     "outputs": [],
     "prompt_number": 4
    },
    {
     "cell_type": "code",
     "collapsed": false,
     "input": [
      "#####################################################\n",
      "###### Plot differences from mtclim (no modis) ######\n",
      "\n",
      "## product names, plotting variables, coordinates etc\n",
      "# Product names\n",
      "pr_names = ['mtclim','nldas','syn']\n",
      "\n",
      "# colors\n",
      "SWmin_delta = -50\n",
      "SWmax_delta = 50\n",
      "\n",
      "# Lat/Lon handling\n",
      "lon = regrid_ds['mtclim'].longitude.values\n",
      "lat = regrid_ds['mtclim'].latitude.values\n",
      "\n",
      "lat_i = np.min(lat)\n",
      "lon_i = np.min(lon)\n",
      "lat_j = np.max(lat)\n",
      "lon_j = np.max(lon)\n",
      "\n",
      "lat_mid = lat[np.round(lat.size/2)]\n",
      "lon_mid = lon[np.round(lon.size/2)]\n",
      "\n",
      "lat_labels = np.arange(np.round(lat_i), np.round(lat_j), 2)\n",
      "lon_labels = np.arange(np.round(lon_i), np.round(lon_j), 2)\n",
      "\n",
      "## Loop through dates\n",
      "for d in pd.date_range(start='2005',end='2006',freq='M'):\n",
      "    \n",
      "    # Create figure properties\n",
      "    fig = plt.figure(figsize=(8,6))\n",
      "    gs = matplotlib.gridspec.GridSpec(2,4,width_ratios=[16,16,16,1])\n",
      "\n",
      "    ## Color range\n",
      "    SWmax = 0\n",
      "    SWmin = 500\n",
      "    for prod in pr_names:\n",
      "        SWmax = max(np.nanmax(np.squeeze(regrid_ds[prod].SWdwn.loc[d:d].values)),SWmax)\n",
      "        SWmax = np.round(SWmax/10)*10\n",
      "        \n",
      "        if np.nanmin(np.squeeze(regrid_ds[prod].SWdwn.loc[d:d].values)) > 0:\n",
      "            SWmin = min(np.nanmin(np.squeeze(regrid_ds[prod].SWdwn.loc[d:d].values)),SWmin)\n",
      "            SWmin = np.round(SWmin/10)*10\n",
      "        \n",
      "        dSW = 10\n",
      "\n",
      "    for ind,prod in enumerate(pr_names):\n",
      "        ## Monthly averages\n",
      "        ax = plt.subplot(gs[0,ind])\n",
      "        \n",
      "        # Basemap\n",
      "        m1 = Basemap(llcrnrlon=lon_i,llcrnrlat=lat_i,urcrnrlon=lon_j,urcrnrlat=lat_j,\\\n",
      "            rsphere=(6378137.00,6356752.3142),\\\n",
      "            resolution='l',area_thresh=1000.,projection='lcc',\\\n",
      "            lat_1=lat_mid,lon_0=lon_mid,ax=ax)\n",
      "        \n",
      "        # Monthly value for each product\n",
      "        im_avg = m1.imshow(np.squeeze(regrid_ds[prod].SWdwn.loc[d:d].values),\\\n",
      "                  cmap=cm.gnuplot2,vmin=SWmin,vmax=SWmax,interpolation='none')\n",
      "        ax.set_title((prod))\n",
      "\n",
      "        # Axis\n",
      "        if ind == 0:\n",
      "            m1.drawparallels(lat_labels,labels=[1,0,0,0])\n",
      "        else:\n",
      "            m1.drawparallels(lat_labels)\n",
      "        m1.drawmeridians(lon_labels,labels=[0,0,0,1]) \n",
      "        \n",
      "        # political boundaries.\n",
      "        m1.drawstates()\n",
      "        m1.drawcoastlines()\n",
      "        m1.drawcounties()\n",
      "    \n",
      "        ## Difference from mtclim values\n",
      "        if not prod == 'mtclim':\n",
      "            ax = plt.subplot(gs[1,ind])\n",
      "        \n",
      "            # Basemap\n",
      "            m1 = Basemap(llcrnrlon=lon_i,llcrnrlat=lat_i,urcrnrlon=lon_j,urcrnrlat=lat_j,\\\n",
      "                rsphere=(6378137.00,6356752.3142),\\\n",
      "                resolution='l',area_thresh=1000.,projection='lcc',\\\n",
      "                lat_1=lat_mid,lon_0=lon_mid,ax=ax)\n",
      "            \n",
      "            # Difference image\n",
      "            im_dif = m1.imshow(np.squeeze(regrid_ds[prod].SWdwn.loc[d:d].values-regrid_ds['mtclim'].SWdwn.loc[d:d].values),\\\n",
      "                  cmap=cm.RdBu_r,vmin=SWmin_delta,vmax=SWmax_delta,interpolation='none')\n",
      "        \n",
      "            # Title\n",
      "            ax.set_title((prod+\" - mtclim\"))\n",
      "            \n",
      "            # Axis\n",
      "            if ind == 1:\n",
      "                m1.drawparallels(lat_labels,labels=[1,0,0,0])\n",
      "            else:\n",
      "                m1.drawparallels(lat_labels)\n",
      "            m1.drawmeridians(lon_labels,labels=[0,0,0,1]) \n",
      "\n",
      "            # political boundaries.\n",
      "            m1.drawstates()\n",
      "            m1.drawcoastlines()\n",
      "            m1.drawcounties()\n",
      "            \n",
      "    ## Final formatting\n",
      "    plt.tight_layout\n",
      "    \n",
      "    # Colorbar - monthly values\n",
      "    caxi=plt.subplot(gs[0,3])\n",
      "    cbar = plt.colorbar(im_avg, cax=caxi, orientation = \"vertical\",\\\n",
      "                        ticks=np.arange(SWmin,SWmax+dSW,dSW),spacing='proportional')\n",
      "    cbar.ax.set_ylabel(('Irradiance (Wm$^{-2}$)'))\n",
      "    \n",
      "    # Colorbar - difference\n",
      "    caxi=plt.subplot(gs[1,3])\n",
      "    cbar = plt.colorbar(im_dif, cax=caxi, orientation = \"vertical\",spacing='proportional')\n",
      "    cbar.ax.set_ylabel(('Difference (Wm$^{-2}$)'))\n",
      "    \n",
      "    # Output\n",
      "    os.chdir(dir_print)\n",
      "    outdate = pd.to_datetime(d) \n",
      "    outdate = outdate.strftime('%Y_%m')\n",
      "    fname = 'CA.Difference.'+outdate+'.png'\n",
      "    fig.savefig(fname)\n",
      "    fig.clf()"
     ],
     "language": "python",
     "metadata": {},
     "outputs": [
      {
       "metadata": {},
       "output_type": "display_data",
       "text": [
        "<matplotlib.figure.Figure at 0x1149b4390>"
       ]
      },
      {
       "metadata": {},
       "output_type": "display_data",
       "text": [
        "<matplotlib.figure.Figure at 0x117d33150>"
       ]
      },
      {
       "metadata": {},
       "output_type": "display_data",
       "text": [
        "<matplotlib.figure.Figure at 0x113e48c50>"
       ]
      },
      {
       "metadata": {},
       "output_type": "display_data",
       "text": [
        "<matplotlib.figure.Figure at 0x11313b9d0>"
       ]
      },
      {
       "metadata": {},
       "output_type": "display_data",
       "text": [
        "<matplotlib.figure.Figure at 0x111f27cd0>"
       ]
      },
      {
       "metadata": {},
       "output_type": "display_data",
       "text": [
        "<matplotlib.figure.Figure at 0x112949dd0>"
       ]
      },
      {
       "metadata": {},
       "output_type": "display_data",
       "text": [
        "<matplotlib.figure.Figure at 0x1146cb990>"
       ]
      },
      {
       "metadata": {},
       "output_type": "display_data",
       "text": [
        "<matplotlib.figure.Figure at 0x11359ac10>"
       ]
      },
      {
       "metadata": {},
       "output_type": "display_data",
       "text": [
        "<matplotlib.figure.Figure at 0x11eda8b90>"
       ]
      },
      {
       "metadata": {},
       "output_type": "display_data",
       "text": [
        "<matplotlib.figure.Figure at 0x110bedd50>"
       ]
      },
      {
       "metadata": {},
       "output_type": "display_data",
       "text": [
        "<matplotlib.figure.Figure at 0x113c1d510>"
       ]
      },
      {
       "metadata": {},
       "output_type": "display_data",
       "text": [
        "<matplotlib.figure.Figure at 0x11ac1e410>"
       ]
      }
     ],
     "prompt_number": 19
    },
    {
     "cell_type": "code",
     "collapsed": false,
     "input": [
      "###################################################\n",
      "###### Plot differences from mtclim w/ MODIS ######\n",
      "\n",
      "## product names, plotting variables, coordinates etc\n",
      "# Product names\n",
      "pr_names = ['mtclim','nldas','syn','modis']\n",
      "\n",
      "# colors\n",
      "SWmin_delta = -50\n",
      "SWmax_delta = 50\n",
      "\n",
      "# Lat/Lon handling\n",
      "lon = regrid_ds['mtclim'].longitude.values\n",
      "lat = regrid_ds['mtclim'].latitude.values\n",
      "\n",
      "lat_i = np.min(lat)\n",
      "lon_i = np.min(lon)\n",
      "lat_j = np.max(lat)\n",
      "lon_j = np.max(lon)\n",
      "\n",
      "lat_mid = lat[np.round(lat.size/2)]\n",
      "lon_mid = lon[np.round(lon.size/2)]\n",
      "\n",
      "lat_labels = np.arange(np.round(lat_i), np.round(lat_j), 2)\n",
      "lon_labels = np.arange(np.round(lon_i), np.round(lon_j), 2)\n",
      "\n",
      "## Loop through dates\n",
      "for d in pd.date_range(start='2003-01-01',end='2005-07',freq='M'):\n",
      "    \n",
      "    # Create figure properties\n",
      "    fig = plt.figure(figsize=(12,6))\n",
      "    gs = matplotlib.gridspec.GridSpec(2,5,width_ratios=[16,16,16,16,1])\n",
      "\n",
      "    ## Color range\n",
      "    SWmax = 0\n",
      "    SWmin = 500\n",
      "    for prod in pr_names:\n",
      "        if regrid_ds[prod].SWdwn.loc[d:d].any():\n",
      "            SWmax = max(np.nanmax(np.squeeze(regrid_ds[prod].SWdwn.loc[d:d].values)),SWmax)\n",
      "            SWmax = np.round(SWmax/10)*10\n",
      "        \n",
      "        if regrid_ds[prod].SWdwn.loc[d:d].any() and np.nanmin(np.squeeze(regrid_ds[prod].SWdwn.loc[d:d].values)) > 0:\n",
      "            SWmin = min(np.nanmin(np.squeeze(regrid_ds[prod].SWdwn.loc[d:d].values)),SWmin)\n",
      "            SWmin = np.round(SWmin/10)*10\n",
      "        \n",
      "        dSW = 10\n",
      "\n",
      "    for ind,prod in enumerate(pr_names):\n",
      "        ## Monthly averages\n",
      "        ax = plt.subplot(gs[0,ind])\n",
      "        \n",
      "        # Basemap\n",
      "        m1 = Basemap(llcrnrlon=lon_i,llcrnrlat=lat_i,urcrnrlon=lon_j,urcrnrlat=lat_j,\\\n",
      "            rsphere=(6378137.00,6356752.3142),\\\n",
      "            resolution='l',area_thresh=1000.,projection='lcc',\\\n",
      "            lat_1=lat_mid,lon_0=lon_mid,ax=ax)\n",
      "        \n",
      "        # Monthly value for each product\n",
      "        if regrid_ds[prod].SWdwn.loc[d:d].any():\n",
      "            im_avg = m1.imshow(np.squeeze(regrid_ds[prod].SWdwn.loc[d:d].values),\\\n",
      "                      cmap=cm.gnuplot2,vmin=SWmin,vmax=SWmax,interpolation='none')\n",
      "        ax.set_title((prod))\n",
      "\n",
      "        # Axis\n",
      "        if ind == 0:\n",
      "            m1.drawparallels(lat_labels,labels=[1,0,0,0])\n",
      "        else:\n",
      "            m1.drawparallels(lat_labels)\n",
      "        m1.drawmeridians(lon_labels,labels=[0,0,0,1]) \n",
      "        \n",
      "        # political boundaries.\n",
      "        m1.drawstates()\n",
      "        m1.drawcoastlines()\n",
      "        m1.drawcounties()\n",
      "    \n",
      "        ## Difference from mtclim values\n",
      "        if not prod == 'mtclim':\n",
      "            ax = plt.subplot(gs[1,ind])\n",
      "        \n",
      "            # Basemap\n",
      "            m1 = Basemap(llcrnrlon=lon_i,llcrnrlat=lat_i,urcrnrlon=lon_j,urcrnrlat=lat_j,\\\n",
      "                rsphere=(6378137.00,6356752.3142),\\\n",
      "                resolution='l',area_thresh=1000.,projection='lcc',\\\n",
      "                lat_1=lat_mid,lon_0=lon_mid,ax=ax)\n",
      "            \n",
      "            # Difference image\n",
      "            if regrid_ds[prod].SWdwn.loc[d:d].any():\n",
      "                im_dif = m1.imshow(np.squeeze(regrid_ds[prod].SWdwn.loc[d:d].values-\\\n",
      "                                              regrid_ds['mtclim'].SWdwn.loc[d:d].values),\\\n",
      "                      cmap=cm.RdBu_r,vmin=SWmin_delta,vmax=SWmax_delta,interpolation='none')\n",
      "        \n",
      "            # Title\n",
      "            ax.set_title((prod+\" - mtclim\"))\n",
      "            \n",
      "            # Axis\n",
      "            if ind == 1:\n",
      "                m1.drawparallels(lat_labels,labels=[1,0,0,0])\n",
      "            else:\n",
      "                m1.drawparallels(lat_labels)\n",
      "            m1.drawmeridians(lon_labels,labels=[0,0,0,1]) \n",
      "\n",
      "            # political boundaries.\n",
      "            m1.drawstates()\n",
      "            m1.drawcoastlines()\n",
      "            m1.drawcounties()\n",
      "            \n",
      "    ## Final formatting\n",
      "    plt.tight_layout\n",
      "    \n",
      "    # Colorbar - monthly values\n",
      "    caxi=plt.subplot(gs[0,4])\n",
      "    cbar = plt.colorbar(im_avg, cax=caxi, orientation = \"vertical\",\\\n",
      "                        ticks=np.arange(SWmin,SWmax+dSW,dSW),spacing='proportional')\n",
      "    cbar.ax.set_ylabel(('Irradiance (Wm$^{-2}$)'))\n",
      "    \n",
      "    # Colorbar - difference\n",
      "    caxi=plt.subplot(gs[1,4])\n",
      "    cbar = plt.colorbar(im_dif, cax=caxi, orientation = \"vertical\",spacing='proportional')\n",
      "    cbar.ax.set_ylabel(('Difference (Wm$^{-2}$)'))\n",
      "    \n",
      "    # Output\n",
      "    os.chdir(dir_print)\n",
      "    outdate = pd.to_datetime(d) \n",
      "    outdate = outdate.strftime('%Y_%m')\n",
      "    fname = 'CA.Difference.'+outdate+'.wMODIS.png'\n",
      "    fig.savefig(fname)\n",
      "    plt.close(fig)"
     ],
     "language": "python",
     "metadata": {},
     "outputs": [
      {
       "output_type": "stream",
       "stream": "stderr",
       "text": [
        "/Users/karllapo/anaconda/lib/python2.7/site-packages/matplotlib/pyplot.py:424: RuntimeWarning: More than 20 figures have been opened. Figures created through the pyplot interface (`matplotlib.pyplot.figure`) are retained until explicitly closed and may consume too much memory. (To control this warning, see the rcParam `figure.max_open_warning`).\n",
        "  max_open_warning, RuntimeWarning)\n"
       ]
      },
      {
       "metadata": {},
       "output_type": "display_data",
       "text": [
        "<matplotlib.figure.Figure at 0x1165e2ed0>"
       ]
      },
      {
       "metadata": {},
       "output_type": "display_data",
       "text": [
        "<matplotlib.figure.Figure at 0x1191e6950>"
       ]
      },
      {
       "metadata": {},
       "output_type": "display_data",
       "text": [
        "<matplotlib.figure.Figure at 0x119b8fed0>"
       ]
      },
      {
       "metadata": {},
       "output_type": "display_data",
       "text": [
        "<matplotlib.figure.Figure at 0x121f96ad0>"
       ]
      },
      {
       "metadata": {},
       "output_type": "display_data",
       "text": [
        "<matplotlib.figure.Figure at 0x1221336d0>"
       ]
      },
      {
       "metadata": {},
       "output_type": "display_data",
       "text": [
        "<matplotlib.figure.Figure at 0x11965ed50>"
       ]
      },
      {
       "metadata": {},
       "output_type": "display_data",
       "text": [
        "<matplotlib.figure.Figure at 0x11715f890>"
       ]
      },
      {
       "metadata": {},
       "output_type": "display_data",
       "text": [
        "<matplotlib.figure.Figure at 0x11e8b41d0>"
       ]
      },
      {
       "metadata": {},
       "output_type": "display_data",
       "text": [
        "<matplotlib.figure.Figure at 0x11ffe4650>"
       ]
      },
      {
       "metadata": {},
       "output_type": "display_data",
       "text": [
        "<matplotlib.figure.Figure at 0x116e78610>"
       ]
      },
      {
       "metadata": {},
       "output_type": "display_data",
       "text": [
        "<matplotlib.figure.Figure at 0x12247c4d0>"
       ]
      },
      {
       "metadata": {},
       "output_type": "display_data",
       "text": [
        "<matplotlib.figure.Figure at 0x126159410>"
       ]
      },
      {
       "metadata": {},
       "output_type": "display_data",
       "text": [
        "<matplotlib.figure.Figure at 0x1131d59d0>"
       ]
      },
      {
       "metadata": {},
       "output_type": "display_data",
       "text": [
        "<matplotlib.figure.Figure at 0x122469290>"
       ]
      },
      {
       "metadata": {},
       "output_type": "display_data",
       "text": [
        "<matplotlib.figure.Figure at 0x122616510>"
       ]
      },
      {
       "metadata": {},
       "output_type": "display_data",
       "text": [
        "<matplotlib.figure.Figure at 0x119669950>"
       ]
      },
      {
       "metadata": {},
       "output_type": "display_data",
       "text": [
        "<matplotlib.figure.Figure at 0x11767f390>"
       ]
      },
      {
       "metadata": {},
       "output_type": "display_data",
       "text": [
        "<matplotlib.figure.Figure at 0x11a1d13d0>"
       ]
      },
      {
       "metadata": {},
       "output_type": "display_data",
       "text": [
        "<matplotlib.figure.Figure at 0x11ef24110>"
       ]
      },
      {
       "metadata": {},
       "output_type": "display_data",
       "text": [
        "<matplotlib.figure.Figure at 0x11eb97650>"
       ]
      },
      {
       "metadata": {},
       "output_type": "display_data",
       "text": [
        "<matplotlib.figure.Figure at 0x115f7d6d0>"
       ]
      },
      {
       "metadata": {},
       "output_type": "display_data",
       "text": [
        "<matplotlib.figure.Figure at 0x12213a790>"
       ]
      },
      {
       "metadata": {},
       "output_type": "display_data",
       "text": [
        "<matplotlib.figure.Figure at 0x116b85750>"
       ]
      },
      {
       "metadata": {},
       "output_type": "display_data",
       "text": [
        "<matplotlib.figure.Figure at 0x1251047d0>"
       ]
      },
      {
       "metadata": {},
       "output_type": "display_data",
       "text": [
        "<matplotlib.figure.Figure at 0x11dc12d10>"
       ]
      },
      {
       "metadata": {},
       "output_type": "display_data",
       "text": [
        "<matplotlib.figure.Figure at 0x119bbdb10>"
       ]
      },
      {
       "metadata": {},
       "output_type": "display_data",
       "text": [
        "<matplotlib.figure.Figure at 0x11d5ed250>"
       ]
      },
      {
       "metadata": {},
       "output_type": "display_data",
       "text": [
        "<matplotlib.figure.Figure at 0x11994b650>"
       ]
      },
      {
       "metadata": {},
       "output_type": "display_data",
       "text": [
        "<matplotlib.figure.Figure at 0x119770210>"
       ]
      },
      {
       "metadata": {},
       "output_type": "display_data",
       "text": [
        "<matplotlib.figure.Figure at 0x11ef1eed0>"
       ]
      }
     ],
     "prompt_number": 27
    }
   ],
   "metadata": {}
  }
 ]
}