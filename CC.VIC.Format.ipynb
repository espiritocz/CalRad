{
 "metadata": {
  "name": ""
 },
 "nbformat": 3,
 "nbformat_minor": 0,
 "worksheets": [
  {
   "cells": [
    {
     "cell_type": "code",
     "collapsed": false,
     "input": [
      "## Import statements\n",
      "# netcdf\n",
      "from netCDF4 import Dataset,num2date, date2num\n",
      "import numpy as np\n",
      "from datetime import datetime, timedelta\n",
      "import pandas as pd\n",
      "\n",
      "# OS interaction\n",
      "import sys\n",
      "import os\n",
      "import subprocess\n",
      "\n",
      "## Directory of .nc files\n",
      "# datadir = '/home/lapok/Livneh_VIC/VIC.Disagg.ForcingFluxes/'\n",
      "datadir = '/Users/karllapo/gdrive/SnowHydrology/proj/CloudClimatology/data/VIC_MTCLIM'\n",
      "# outdir = '/home/lapok/Livneh_VIC/'\n",
      "outdir = '/Users/karllapo/gdrive/SnowHydrology/proj/CloudClimatology/data/VIC_MTCLIM'\n",
      "\n",
      "## File names\n",
      "fname = 'CA.MTCLIM.irrad.nc'\n",
      "fin_name = 'mtclim_irrad_'"
     ],
     "language": "python",
     "metadata": {},
     "outputs": [],
     "prompt_number": 1
    },
    {
     "cell_type": "code",
     "collapsed": false,
     "input": [
      "## netcdf parameters\n",
      "# Set initilization flag for reading variables\n",
      "init_flag = 1\n",
      "# Initialize date variable\n",
      "dates = []\n",
      "\n",
      "# Bounding box - rectangular domain\n",
      "LL_rect = [-123.5,34.5]\n",
      "LR_rect = [-115.5,34.5]\n",
      "UR_rect = [-115.5,41]\n",
      "UL_rect = [-123.5,41]\n",
      "# Bounding box - ragged domain\n",
      "LL_rag = [-120,34.5]\n",
      "LR_rag = [-115,34.5]\n",
      "UR_rag = [-118.5,41]\n",
      "UL_rag = [-123.5,41]"
     ],
     "language": "python",
     "metadata": {},
     "outputs": [],
     "prompt_number": 2
    },
    {
     "cell_type": "code",
     "collapsed": false,
     "input": [
      "## Directory contents\n",
      "os.chdir(datadir+'/VIC.DisaggFluxes')\n",
      "p = subprocess.Popen('ls -l *.gz | wc -l', shell=True, stdout=subprocess.PIPE, stderr=subprocess.STDOUT)\n",
      "for line in p.stdout.readlines():\n",
      "    num_files = int(line)\n",
      "content = os.listdir(os.getcwd())\n",
      "\n",
      "## Dimensions\n",
      "ndates = 105192 # Found using line counts from vim\n",
      "lat_fname = []\n",
      "lon_fname = []\n",
      "\n",
      "print(\"Preparing dimensions\")\n",
      "for files in content:\n",
      "    if os.path.isfile(files) and files[0:13] == fin_name:        \n",
      "        # Strip out lat and lon from name\n",
      "        lat_fname.append(float(files[13:21]))\n",
      "        lon_fname.append(float(files[22:32]))\n",
      " \n",
      "## Create spatial variables\n",
      "lat = np.unique(lat_fname)\n",
      "lon = np.unique(lon_fname)\n",
      "nlat = lat.shape[0]\n",
      "nlon = lon.shape[0]\n",
      "lat_m,lon_m = np.meshgrid(lat,lon)\n",
      "\n",
      "## Create time variable\n",
      "t_beg = datetime(2000,1,1,0)\n",
      "t_end = datetime(2011,12,31,23)\n",
      "dates = pd.date_range(start=t_beg,end=t_end,freq='1H')\n",
      "\n",
      "## Pre-allocation\n",
      "SWdwn = np.empty((ndates,nlat,nlon))\n",
      "LWdwn = np.empty_like(SWdwn)"
     ],
     "language": "python",
     "metadata": {},
     "outputs": [
      {
       "output_type": "stream",
       "stream": "stdout",
       "text": [
        "Preparing dimensions\n"
       ]
      }
     ],
     "prompt_number": 4
    },
    {
     "cell_type": "code",
     "collapsed": false,
     "input": [
      "## Read each file\n",
      "content = os.listdir(os.getcwd())\n",
      "for files in content:\n",
      "    if os.path.isfile(files) and files[0:13] == fin_name:\n",
      "        print(\"Processing: \"+files)\n",
      "        \n",
      "        # Unzip the file\n",
      "        os.system('gunzip '+files)\n",
      "        files_unzip = files[0:-3]\n",
      "        \n",
      "        # Read the text file (2 columns, each the time vector in length, for each spatial location\n",
      "        f = pd.read_csv(files_unzip,delimiter='\\t',names=['SWdwn','LWdwn'])\n",
      "        \n",
      "        # Strip out lat and lon from name\n",
      "        lat_fname = float(files_unzip[13:21])\n",
      "        lon_fname = float(files_unzip[22:32])\n",
      "\n",
      "        # Find where the files belongs in the numpy arrays and assign\n",
      "        ind_lon,ind_lat = np.nonzero( (lat_fname == lat_m) & (lon_fname == lon_m) )\n",
      "        LWdwn[:,ind_lat[0],ind_lon[0]] = f.LWdwn[:]\n",
      "        SWdwn[:,ind_lat[0],ind_lon[0]] = f.SWdwn[:]\n",
      "\n",
      "        # Re zip the file\n",
      "        os.system('gzip '+files_unzip)"
     ],
     "language": "python",
     "metadata": {},
     "outputs": [
      {
       "output_type": "stream",
       "stream": "stdout",
       "text": [
        "Processing: mtclim_irrad_36.96875_-115.03125.gz\n",
        "Processing: mtclim_irrad_36.96875_-115.09375.gz"
       ]
      },
      {
       "output_type": "stream",
       "stream": "stdout",
       "text": [
        "\n",
        "Processing: mtclim_irrad_36.96875_-115.15625.gz"
       ]
      },
      {
       "output_type": "stream",
       "stream": "stdout",
       "text": [
        "\n",
        "Processing: mtclim_irrad_36.96875_-115.21875.gz"
       ]
      },
      {
       "output_type": "stream",
       "stream": "stdout",
       "text": [
        "\n",
        "Processing: mtclim_irrad_36.96875_-115.28125.gz"
       ]
      },
      {
       "output_type": "stream",
       "stream": "stdout",
       "text": [
        "\n",
        "Processing: mtclim_irrad_36.96875_-115.34375.gz"
       ]
      },
      {
       "output_type": "stream",
       "stream": "stdout",
       "text": [
        "\n",
        "Processing: mtclim_irrad_36.96875_-115.40625.gz"
       ]
      },
      {
       "output_type": "stream",
       "stream": "stdout",
       "text": [
        "\n",
        "Processing: mtclim_irrad_36.96875_-115.46875.gz"
       ]
      },
      {
       "output_type": "stream",
       "stream": "stdout",
       "text": [
        "\n",
        "Processing: mtclim_irrad_36.96875_-115.53125.gz"
       ]
      },
      {
       "output_type": "stream",
       "stream": "stdout",
       "text": [
        "\n",
        "Processing: mtclim_irrad_36.96875_-115.59375.gz"
       ]
      },
      {
       "output_type": "stream",
       "stream": "stdout",
       "text": [
        "\n",
        "Processing: mtclim_irrad_36.96875_-115.65625.gz"
       ]
      },
      {
       "output_type": "stream",
       "stream": "stdout",
       "text": [
        "\n",
        "Processing: mtclim_irrad_36.96875_-115.71875.gz"
       ]
      },
      {
       "output_type": "stream",
       "stream": "stdout",
       "text": [
        "\n",
        "Processing: mtclim_irrad_36.96875_-115.78125.gz"
       ]
      },
      {
       "output_type": "stream",
       "stream": "stdout",
       "text": [
        "\n",
        "Processing: mtclim_irrad_36.96875_-115.84375.gz"
       ]
      },
      {
       "output_type": "stream",
       "stream": "stdout",
       "text": [
        "\n",
        "Processing: mtclim_irrad_36.96875_-115.90625.gz"
       ]
      },
      {
       "output_type": "stream",
       "stream": "stdout",
       "text": [
        "\n",
        "Processing: mtclim_irrad_36.96875_-115.96875.gz"
       ]
      },
      {
       "output_type": "stream",
       "stream": "stdout",
       "text": [
        "\n",
        "Processing: mtclim_irrad_36.96875_-116.03125.gz"
       ]
      },
      {
       "output_type": "stream",
       "stream": "stdout",
       "text": [
        "\n",
        "Processing: mtclim_irrad_36.96875_-116.09375.gz"
       ]
      },
      {
       "output_type": "stream",
       "stream": "stdout",
       "text": [
        "\n",
        "Processing: mtclim_irrad_36.96875_-116.15625.gz"
       ]
      },
      {
       "output_type": "stream",
       "stream": "stdout",
       "text": [
        "\n",
        "Processing: mtclim_irrad_36.96875_-116.21875.gz"
       ]
      },
      {
       "output_type": "stream",
       "stream": "stdout",
       "text": [
        "\n",
        "Processing: mtclim_irrad_36.96875_-116.28125.gz"
       ]
      },
      {
       "output_type": "stream",
       "stream": "stdout",
       "text": [
        "\n",
        "Processing: mtclim_irrad_36.96875_-116.34375.gz"
       ]
      },
      {
       "output_type": "stream",
       "stream": "stdout",
       "text": [
        "\n",
        "Processing: mtclim_irrad_36.96875_-116.40625.gz"
       ]
      },
      {
       "output_type": "stream",
       "stream": "stdout",
       "text": [
        "\n",
        "Processing: mtclim_irrad_36.96875_-116.46875.gz"
       ]
      },
      {
       "output_type": "stream",
       "stream": "stdout",
       "text": [
        "\n",
        "Processing: mtclim_irrad_36.96875_-116.53125.gz"
       ]
      },
      {
       "output_type": "stream",
       "stream": "stdout",
       "text": [
        "\n",
        "Processing: mtclim_irrad_36.96875_-116.59375.gz"
       ]
      },
      {
       "output_type": "stream",
       "stream": "stdout",
       "text": [
        "\n",
        "Processing: mtclim_irrad_36.96875_-116.65625.gz"
       ]
      },
      {
       "output_type": "stream",
       "stream": "stdout",
       "text": [
        "\n",
        "Processing: mtclim_irrad_36.96875_-116.71875.gz"
       ]
      },
      {
       "output_type": "stream",
       "stream": "stdout",
       "text": [
        "\n",
        "Processing: mtclim_irrad_36.96875_-116.78125.gz"
       ]
      },
      {
       "output_type": "stream",
       "stream": "stdout",
       "text": [
        "\n",
        "Processing: mtclim_irrad_36.96875_-116.84375.gz"
       ]
      },
      {
       "output_type": "stream",
       "stream": "stdout",
       "text": [
        "\n",
        "Processing: mtclim_irrad_36.96875_-116.90625.gz"
       ]
      },
      {
       "output_type": "stream",
       "stream": "stdout",
       "text": [
        "\n",
        "Processing: mtclim_irrad_36.96875_-116.96875.gz"
       ]
      },
      {
       "output_type": "stream",
       "stream": "stdout",
       "text": [
        "\n",
        "Processing: mtclim_irrad_36.96875_-117.03125.gz"
       ]
      },
      {
       "output_type": "stream",
       "stream": "stdout",
       "text": [
        "\n",
        "Processing: mtclim_irrad_36.96875_-117.09375.gz"
       ]
      },
      {
       "output_type": "stream",
       "stream": "stdout",
       "text": [
        "\n",
        "Processing: mtclim_irrad_36.96875_-117.15625.gz"
       ]
      },
      {
       "output_type": "stream",
       "stream": "stdout",
       "text": [
        "\n",
        "Processing: mtclim_irrad_36.96875_-117.21875.gz"
       ]
      },
      {
       "output_type": "stream",
       "stream": "stdout",
       "text": [
        "\n",
        "Processing: mtclim_irrad_36.96875_-117.28125.gz"
       ]
      },
      {
       "output_type": "stream",
       "stream": "stdout",
       "text": [
        "\n",
        "Processing: mtclim_irrad_36.96875_-117.34375.gz"
       ]
      },
      {
       "output_type": "stream",
       "stream": "stdout",
       "text": [
        "\n",
        "Processing: mtclim_irrad_36.96875_-117.40625.gz"
       ]
      },
      {
       "output_type": "stream",
       "stream": "stdout",
       "text": [
        "\n",
        "Processing: mtclim_irrad_36.96875_-117.46875.gz"
       ]
      },
      {
       "output_type": "stream",
       "stream": "stdout",
       "text": [
        "\n",
        "Processing: mtclim_irrad_36.96875_-117.53125.gz"
       ]
      },
      {
       "output_type": "stream",
       "stream": "stdout",
       "text": [
        "\n",
        "Processing: mtclim_irrad_36.96875_-117.59375.gz"
       ]
      },
      {
       "output_type": "stream",
       "stream": "stdout",
       "text": [
        "\n",
        "Processing: mtclim_irrad_36.96875_-117.65625.gz"
       ]
      },
      {
       "output_type": "stream",
       "stream": "stdout",
       "text": [
        "\n",
        "Processing: mtclim_irrad_36.96875_-117.71875.gz"
       ]
      },
      {
       "output_type": "stream",
       "stream": "stdout",
       "text": [
        "\n",
        "Processing: mtclim_irrad_36.96875_-117.78125.gz"
       ]
      },
      {
       "output_type": "stream",
       "stream": "stdout",
       "text": [
        "\n",
        "Processing: mtclim_irrad_36.96875_-117.84375.gz"
       ]
      },
      {
       "output_type": "stream",
       "stream": "stdout",
       "text": [
        "\n",
        "Processing: mtclim_irrad_36.96875_-117.90625.gz"
       ]
      },
      {
       "output_type": "stream",
       "stream": "stdout",
       "text": [
        "\n",
        "Processing: mtclim_irrad_36.96875_-117.96875.gz"
       ]
      },
      {
       "output_type": "stream",
       "stream": "stdout",
       "text": [
        "\n",
        "Processing: mtclim_irrad_36.96875_-118.03125.gz"
       ]
      },
      {
       "output_type": "stream",
       "stream": "stdout",
       "text": [
        "\n",
        "Processing: mtclim_irrad_36.96875_-118.09375.gz"
       ]
      },
      {
       "output_type": "stream",
       "stream": "stdout",
       "text": [
        "\n",
        "Processing: mtclim_irrad_36.96875_-118.15625.gz"
       ]
      },
      {
       "output_type": "stream",
       "stream": "stdout",
       "text": [
        "\n",
        "Processing: mtclim_irrad_36.96875_-118.21875.gz"
       ]
      },
      {
       "output_type": "stream",
       "stream": "stdout",
       "text": [
        "\n",
        "Processing: mtclim_irrad_36.96875_-118.28125.gz"
       ]
      },
      {
       "output_type": "stream",
       "stream": "stdout",
       "text": [
        "\n",
        "Processing: mtclim_irrad_36.96875_-118.34375.gz"
       ]
      },
      {
       "output_type": "stream",
       "stream": "stdout",
       "text": [
        "\n",
        "Processing: mtclim_irrad_36.96875_-118.40625.gz"
       ]
      },
      {
       "output_type": "stream",
       "stream": "stdout",
       "text": [
        "\n",
        "Processing: mtclim_irrad_36.96875_-118.46875.gz"
       ]
      },
      {
       "output_type": "stream",
       "stream": "stdout",
       "text": [
        "\n",
        "Processing: mtclim_irrad_36.96875_-118.53125.gz"
       ]
      },
      {
       "output_type": "stream",
       "stream": "stdout",
       "text": [
        "\n",
        "Processing: mtclim_irrad_36.96875_-118.59375.gz"
       ]
      },
      {
       "output_type": "stream",
       "stream": "stdout",
       "text": [
        "\n",
        "Processing: mtclim_irrad_36.96875_-118.65625.gz"
       ]
      },
      {
       "output_type": "stream",
       "stream": "stdout",
       "text": [
        "\n",
        "Processing: mtclim_irrad_36.96875_-118.71875.gz"
       ]
      },
      {
       "output_type": "stream",
       "stream": "stdout",
       "text": [
        "\n",
        "Processing: mtclim_irrad_36.96875_-118.78125.gz"
       ]
      },
      {
       "output_type": "stream",
       "stream": "stdout",
       "text": [
        "\n",
        "Processing: mtclim_irrad_36.96875_-118.84375.gz"
       ]
      },
      {
       "output_type": "stream",
       "stream": "stdout",
       "text": [
        "\n",
        "Processing: mtclim_irrad_36.96875_-118.90625.gz"
       ]
      },
      {
       "output_type": "stream",
       "stream": "stdout",
       "text": [
        "\n",
        "Processing: mtclim_irrad_36.96875_-118.96875.gz"
       ]
      },
      {
       "output_type": "stream",
       "stream": "stdout",
       "text": [
        "\n",
        "Processing: mtclim_irrad_36.96875_-119.03125.gz"
       ]
      },
      {
       "output_type": "stream",
       "stream": "stdout",
       "text": [
        "\n",
        "Processing: mtclim_irrad_36.96875_-119.09375.gz"
       ]
      },
      {
       "output_type": "stream",
       "stream": "stdout",
       "text": [
        "\n",
        "Processing: mtclim_irrad_36.96875_-119.15625.gz"
       ]
      },
      {
       "output_type": "stream",
       "stream": "stdout",
       "text": [
        "\n",
        "Processing: mtclim_irrad_36.96875_-119.21875.gz"
       ]
      },
      {
       "output_type": "stream",
       "stream": "stdout",
       "text": [
        "\n",
        "Processing: mtclim_irrad_36.96875_-119.28125.gz"
       ]
      },
      {
       "output_type": "stream",
       "stream": "stdout",
       "text": [
        "\n",
        "Processing: mtclim_irrad_36.96875_-119.34375.gz"
       ]
      },
      {
       "output_type": "stream",
       "stream": "stdout",
       "text": [
        "\n",
        "Processing: mtclim_irrad_36.96875_-119.40625.gz"
       ]
      },
      {
       "output_type": "stream",
       "stream": "stdout",
       "text": [
        "\n",
        "Processing: mtclim_irrad_36.96875_-119.46875.gz"
       ]
      },
      {
       "output_type": "stream",
       "stream": "stdout",
       "text": [
        "\n",
        "Processing: mtclim_irrad_36.96875_-119.53125.gz"
       ]
      },
      {
       "output_type": "stream",
       "stream": "stdout",
       "text": [
        "\n",
        "Processing: mtclim_irrad_36.96875_-119.59375.gz"
       ]
      },
      {
       "output_type": "stream",
       "stream": "stdout",
       "text": [
        "\n",
        "Processing: mtclim_irrad_36.96875_-119.65625.gz"
       ]
      },
      {
       "output_type": "stream",
       "stream": "stdout",
       "text": [
        "\n",
        "Processing: mtclim_irrad_36.96875_-119.71875.gz"
       ]
      },
      {
       "output_type": "stream",
       "stream": "stdout",
       "text": [
        "\n",
        "Processing: mtclim_irrad_36.96875_-119.78125.gz"
       ]
      },
      {
       "output_type": "stream",
       "stream": "stdout",
       "text": [
        "\n",
        "Processing: mtclim_irrad_36.96875_-119.84375.gz"
       ]
      },
      {
       "output_type": "stream",
       "stream": "stdout",
       "text": [
        "\n",
        "Processing: mtclim_irrad_36.96875_-119.90625.gz"
       ]
      },
      {
       "output_type": "stream",
       "stream": "stdout",
       "text": [
        "\n",
        "Processing: mtclim_irrad_36.96875_-119.96875.gz"
       ]
      },
      {
       "output_type": "stream",
       "stream": "stdout",
       "text": [
        "\n",
        "Processing: mtclim_irrad_36.96875_-120.03125.gz"
       ]
      },
      {
       "output_type": "stream",
       "stream": "stdout",
       "text": [
        "\n",
        "Processing: mtclim_irrad_36.96875_-120.09375.gz"
       ]
      },
      {
       "output_type": "stream",
       "stream": "stdout",
       "text": [
        "\n",
        "Processing: mtclim_irrad_36.96875_-120.15625.gz"
       ]
      },
      {
       "output_type": "stream",
       "stream": "stdout",
       "text": [
        "\n",
        "Processing: mtclim_irrad_36.96875_-120.21875.gz"
       ]
      },
      {
       "output_type": "stream",
       "stream": "stdout",
       "text": [
        "\n",
        "Processing: mtclim_irrad_36.96875_-120.28125.gz"
       ]
      },
      {
       "output_type": "stream",
       "stream": "stdout",
       "text": [
        "\n",
        "Processing: mtclim_irrad_36.96875_-120.34375.gz"
       ]
      },
      {
       "output_type": "stream",
       "stream": "stdout",
       "text": [
        "\n",
        "Processing: mtclim_irrad_36.96875_-120.40625.gz"
       ]
      },
      {
       "output_type": "stream",
       "stream": "stdout",
       "text": [
        "\n",
        "Processing: mtclim_irrad_36.96875_-120.46875.gz"
       ]
      },
      {
       "output_type": "stream",
       "stream": "stdout",
       "text": [
        "\n",
        "Processing: mtclim_irrad_36.96875_-120.53125.gz"
       ]
      },
      {
       "output_type": "stream",
       "stream": "stdout",
       "text": [
        "\n",
        "Processing: mtclim_irrad_36.96875_-120.59375.gz"
       ]
      },
      {
       "output_type": "stream",
       "stream": "stdout",
       "text": [
        "\n",
        "Processing: mtclim_irrad_36.96875_-120.65625.gz"
       ]
      },
      {
       "output_type": "stream",
       "stream": "stdout",
       "text": [
        "\n",
        "Processing: mtclim_irrad_36.96875_-120.71875.gz"
       ]
      },
      {
       "output_type": "stream",
       "stream": "stdout",
       "text": [
        "\n",
        "Processing: mtclim_irrad_36.96875_-120.78125.gz"
       ]
      },
      {
       "output_type": "stream",
       "stream": "stdout",
       "text": [
        "\n",
        "Processing: mtclim_irrad_36.96875_-120.84375.gz"
       ]
      },
      {
       "output_type": "stream",
       "stream": "stdout",
       "text": [
        "\n",
        "Processing: mtclim_irrad_36.96875_-120.90625.gz"
       ]
      },
      {
       "output_type": "stream",
       "stream": "stdout",
       "text": [
        "\n",
        "Processing: mtclim_irrad_36.96875_-120.96875.gz"
       ]
      },
      {
       "output_type": "stream",
       "stream": "stdout",
       "text": [
        "\n",
        "Processing: mtclim_irrad_36.96875_-121.03125.gz"
       ]
      },
      {
       "output_type": "stream",
       "stream": "stdout",
       "text": [
        "\n",
        "Processing: mtclim_irrad_36.96875_-121.09375.gz"
       ]
      },
      {
       "output_type": "stream",
       "stream": "stdout",
       "text": [
        "\n",
        "Processing: mtclim_irrad_36.96875_-121.15625.gz"
       ]
      },
      {
       "output_type": "stream",
       "stream": "stdout",
       "text": [
        "\n",
        "Processing: mtclim_irrad_36.96875_-121.21875.gz"
       ]
      },
      {
       "output_type": "stream",
       "stream": "stdout",
       "text": [
        "\n",
        "Processing: mtclim_irrad_36.96875_-121.28125.gz"
       ]
      },
      {
       "output_type": "stream",
       "stream": "stdout",
       "text": [
        "\n",
        "Processing: mtclim_irrad_36.96875_-121.34375.gz"
       ]
      },
      {
       "output_type": "stream",
       "stream": "stdout",
       "text": [
        "\n",
        "Processing: mtclim_irrad_36.96875_-121.40625.gz"
       ]
      },
      {
       "output_type": "stream",
       "stream": "stdout",
       "text": [
        "\n",
        "Processing: mtclim_irrad_36.96875_-121.46875.gz"
       ]
      },
      {
       "output_type": "stream",
       "stream": "stdout",
       "text": [
        "\n",
        "Processing: mtclim_irrad_36.96875_-121.53125.gz"
       ]
      },
      {
       "output_type": "stream",
       "stream": "stdout",
       "text": [
        "\n",
        "Processing: mtclim_irrad_36.96875_-121.59375.gz"
       ]
      },
      {
       "output_type": "stream",
       "stream": "stdout",
       "text": [
        "\n",
        "Processing: mtclim_irrad_36.96875_-121.65625.gz"
       ]
      },
      {
       "output_type": "stream",
       "stream": "stdout",
       "text": [
        "\n",
        "Processing: mtclim_irrad_36.96875_-121.71875.gz"
       ]
      },
      {
       "output_type": "stream",
       "stream": "stdout",
       "text": [
        "\n",
        "Processing: mtclim_irrad_36.96875_-121.78125.gz"
       ]
      },
      {
       "output_type": "stream",
       "stream": "stdout",
       "text": [
        "\n",
        "Processing: mtclim_irrad_36.96875_-121.84375.gz"
       ]
      },
      {
       "output_type": "stream",
       "stream": "stdout",
       "text": [
        "\n",
        "Processing: mtclim_irrad_39.59375_-115.03125.gz"
       ]
      },
      {
       "output_type": "stream",
       "stream": "stdout",
       "text": [
        "\n",
        "Processing: mtclim_irrad_39.59375_-115.09375.gz"
       ]
      },
      {
       "output_type": "stream",
       "stream": "stdout",
       "text": [
        "\n",
        "Processing: mtclim_irrad_39.59375_-115.15625.gz"
       ]
      },
      {
       "output_type": "stream",
       "stream": "stdout",
       "text": [
        "\n",
        "Processing: mtclim_irrad_39.59375_-115.21875.gz"
       ]
      },
      {
       "output_type": "stream",
       "stream": "stdout",
       "text": [
        "\n",
        "Processing: mtclim_irrad_39.59375_-115.28125.gz"
       ]
      },
      {
       "output_type": "stream",
       "stream": "stdout",
       "text": [
        "\n",
        "Processing: mtclim_irrad_39.59375_-115.34375.gz"
       ]
      },
      {
       "output_type": "stream",
       "stream": "stdout",
       "text": [
        "\n",
        "Processing: mtclim_irrad_39.59375_-115.40625.gz"
       ]
      },
      {
       "output_type": "stream",
       "stream": "stdout",
       "text": [
        "\n",
        "Processing: mtclim_irrad_39.59375_-115.46875.gz"
       ]
      },
      {
       "output_type": "stream",
       "stream": "stdout",
       "text": [
        "\n",
        "Processing: mtclim_irrad_39.59375_-115.53125.gz"
       ]
      },
      {
       "output_type": "stream",
       "stream": "stdout",
       "text": [
        "\n",
        "Processing: mtclim_irrad_39.59375_-115.59375.gz"
       ]
      },
      {
       "output_type": "stream",
       "stream": "stdout",
       "text": [
        "\n",
        "Processing: mtclim_irrad_39.59375_-115.65625.gz"
       ]
      },
      {
       "output_type": "stream",
       "stream": "stdout",
       "text": [
        "\n",
        "Processing: mtclim_irrad_39.59375_-115.71875.gz"
       ]
      },
      {
       "output_type": "stream",
       "stream": "stdout",
       "text": [
        "\n",
        "Processing: mtclim_irrad_39.59375_-115.78125.gz"
       ]
      },
      {
       "output_type": "stream",
       "stream": "stdout",
       "text": [
        "\n",
        "Processing: mtclim_irrad_39.59375_-115.84375.gz"
       ]
      },
      {
       "output_type": "stream",
       "stream": "stdout",
       "text": [
        "\n",
        "Processing: mtclim_irrad_39.59375_-115.90625.gz"
       ]
      },
      {
       "output_type": "stream",
       "stream": "stdout",
       "text": [
        "\n",
        "Processing: mtclim_irrad_39.59375_-115.96875.gz"
       ]
      },
      {
       "output_type": "stream",
       "stream": "stdout",
       "text": [
        "\n",
        "Processing: mtclim_irrad_39.59375_-116.03125.gz"
       ]
      },
      {
       "output_type": "stream",
       "stream": "stdout",
       "text": [
        "\n",
        "Processing: mtclim_irrad_39.59375_-116.09375.gz"
       ]
      },
      {
       "output_type": "stream",
       "stream": "stdout",
       "text": [
        "\n",
        "Processing: mtclim_irrad_39.59375_-116.15625.gz"
       ]
      },
      {
       "output_type": "stream",
       "stream": "stdout",
       "text": [
        "\n",
        "Processing: mtclim_irrad_39.59375_-116.21875.gz"
       ]
      },
      {
       "output_type": "stream",
       "stream": "stdout",
       "text": [
        "\n",
        "Processing: mtclim_irrad_39.59375_-116.28125.gz"
       ]
      },
      {
       "output_type": "stream",
       "stream": "stdout",
       "text": [
        "\n",
        "Processing: mtclim_irrad_39.59375_-116.34375.gz"
       ]
      },
      {
       "output_type": "stream",
       "stream": "stdout",
       "text": [
        "\n",
        "Processing: mtclim_irrad_39.59375_-116.40625.gz"
       ]
      },
      {
       "output_type": "stream",
       "stream": "stdout",
       "text": [
        "\n",
        "Processing: mtclim_irrad_39.59375_-116.46875.gz"
       ]
      },
      {
       "output_type": "stream",
       "stream": "stdout",
       "text": [
        "\n",
        "Processing: mtclim_irrad_39.59375_-116.53125.gz"
       ]
      },
      {
       "output_type": "stream",
       "stream": "stdout",
       "text": [
        "\n",
        "Processing: mtclim_irrad_39.59375_-116.59375.gz"
       ]
      },
      {
       "output_type": "stream",
       "stream": "stdout",
       "text": [
        "\n",
        "Processing: mtclim_irrad_39.59375_-116.65625.gz"
       ]
      },
      {
       "output_type": "stream",
       "stream": "stdout",
       "text": [
        "\n",
        "Processing: mtclim_irrad_39.59375_-116.71875.gz"
       ]
      },
      {
       "output_type": "stream",
       "stream": "stdout",
       "text": [
        "\n",
        "Processing: mtclim_irrad_39.59375_-116.78125.gz"
       ]
      },
      {
       "output_type": "stream",
       "stream": "stdout",
       "text": [
        "\n",
        "Processing: mtclim_irrad_39.59375_-116.84375.gz"
       ]
      },
      {
       "output_type": "stream",
       "stream": "stdout",
       "text": [
        "\n",
        "Processing: mtclim_irrad_39.59375_-116.90625.gz"
       ]
      },
      {
       "output_type": "stream",
       "stream": "stdout",
       "text": [
        "\n",
        "Processing: mtclim_irrad_39.59375_-116.96875.gz"
       ]
      },
      {
       "output_type": "stream",
       "stream": "stdout",
       "text": [
        "\n",
        "Processing: mtclim_irrad_39.59375_-117.03125.gz"
       ]
      },
      {
       "output_type": "stream",
       "stream": "stdout",
       "text": [
        "\n",
        "Processing: mtclim_irrad_39.59375_-117.09375.gz"
       ]
      },
      {
       "output_type": "stream",
       "stream": "stdout",
       "text": [
        "\n",
        "Processing: mtclim_irrad_39.59375_-117.15625.gz"
       ]
      },
      {
       "output_type": "stream",
       "stream": "stdout",
       "text": [
        "\n",
        "Processing: mtclim_irrad_39.59375_-117.21875.gz"
       ]
      },
      {
       "output_type": "stream",
       "stream": "stdout",
       "text": [
        "\n",
        "Processing: mtclim_irrad_39.59375_-117.28125.gz"
       ]
      },
      {
       "output_type": "stream",
       "stream": "stdout",
       "text": [
        "\n",
        "Processing: mtclim_irrad_39.59375_-117.34375.gz"
       ]
      },
      {
       "output_type": "stream",
       "stream": "stdout",
       "text": [
        "\n",
        "Processing: mtclim_irrad_39.59375_-117.40625.gz"
       ]
      },
      {
       "output_type": "stream",
       "stream": "stdout",
       "text": [
        "\n",
        "Processing: mtclim_irrad_39.59375_-117.46875.gz"
       ]
      },
      {
       "output_type": "stream",
       "stream": "stdout",
       "text": [
        "\n",
        "Processing: mtclim_irrad_39.59375_-117.53125.gz"
       ]
      },
      {
       "output_type": "stream",
       "stream": "stdout",
       "text": [
        "\n",
        "Processing: mtclim_irrad_39.59375_-117.59375.gz"
       ]
      },
      {
       "output_type": "stream",
       "stream": "stdout",
       "text": [
        "\n",
        "Processing: mtclim_irrad_39.59375_-117.65625.gz"
       ]
      },
      {
       "output_type": "stream",
       "stream": "stdout",
       "text": [
        "\n",
        "Processing: mtclim_irrad_39.59375_-117.71875.gz"
       ]
      },
      {
       "output_type": "stream",
       "stream": "stdout",
       "text": [
        "\n",
        "Processing: mtclim_irrad_39.59375_-117.78125.gz"
       ]
      },
      {
       "output_type": "stream",
       "stream": "stdout",
       "text": [
        "\n",
        "Processing: mtclim_irrad_39.59375_-117.84375.gz"
       ]
      },
      {
       "output_type": "stream",
       "stream": "stdout",
       "text": [
        "\n",
        "Processing: mtclim_irrad_39.59375_-117.90625.gz"
       ]
      },
      {
       "output_type": "stream",
       "stream": "stdout",
       "text": [
        "\n",
        "Processing: mtclim_irrad_39.59375_-117.96875.gz"
       ]
      },
      {
       "output_type": "stream",
       "stream": "stdout",
       "text": [
        "\n",
        "Processing: mtclim_irrad_39.59375_-118.03125.gz"
       ]
      },
      {
       "output_type": "stream",
       "stream": "stdout",
       "text": [
        "\n",
        "Processing: mtclim_irrad_39.59375_-118.09375.gz"
       ]
      },
      {
       "output_type": "stream",
       "stream": "stdout",
       "text": [
        "\n",
        "Processing: mtclim_irrad_39.59375_-118.15625.gz"
       ]
      },
      {
       "output_type": "stream",
       "stream": "stdout",
       "text": [
        "\n",
        "Processing: mtclim_irrad_39.59375_-118.21875.gz"
       ]
      },
      {
       "output_type": "stream",
       "stream": "stdout",
       "text": [
        "\n",
        "Processing: mtclim_irrad_39.59375_-118.28125.gz"
       ]
      },
      {
       "output_type": "stream",
       "stream": "stdout",
       "text": [
        "\n",
        "Processing: mtclim_irrad_39.59375_-118.34375.gz"
       ]
      },
      {
       "output_type": "stream",
       "stream": "stdout",
       "text": [
        "\n",
        "Processing: mtclim_irrad_39.59375_-118.40625.gz"
       ]
      },
      {
       "output_type": "stream",
       "stream": "stdout",
       "text": [
        "\n",
        "Processing: mtclim_irrad_39.59375_-118.46875.gz"
       ]
      },
      {
       "output_type": "stream",
       "stream": "stdout",
       "text": [
        "\n",
        "Processing: mtclim_irrad_39.59375_-118.53125.gz"
       ]
      },
      {
       "output_type": "stream",
       "stream": "stdout",
       "text": [
        "\n",
        "Processing: mtclim_irrad_39.59375_-118.59375.gz"
       ]
      },
      {
       "output_type": "stream",
       "stream": "stdout",
       "text": [
        "\n",
        "Processing: mtclim_irrad_39.59375_-118.65625.gz"
       ]
      },
      {
       "output_type": "stream",
       "stream": "stdout",
       "text": [
        "\n",
        "Processing: mtclim_irrad_39.59375_-118.71875.gz"
       ]
      },
      {
       "output_type": "stream",
       "stream": "stdout",
       "text": [
        "\n",
        "Processing: mtclim_irrad_39.59375_-118.78125.gz"
       ]
      },
      {
       "output_type": "stream",
       "stream": "stdout",
       "text": [
        "\n",
        "Processing: mtclim_irrad_39.59375_-118.84375.gz"
       ]
      },
      {
       "output_type": "stream",
       "stream": "stdout",
       "text": [
        "\n",
        "Processing: mtclim_irrad_39.59375_-118.90625.gz"
       ]
      },
      {
       "output_type": "stream",
       "stream": "stdout",
       "text": [
        "\n",
        "Processing: mtclim_irrad_39.59375_-118.96875.gz"
       ]
      },
      {
       "output_type": "stream",
       "stream": "stdout",
       "text": [
        "\n",
        "Processing: mtclim_irrad_39.59375_-119.03125.gz"
       ]
      },
      {
       "output_type": "stream",
       "stream": "stdout",
       "text": [
        "\n",
        "Processing: mtclim_irrad_39.59375_-119.09375.gz"
       ]
      },
      {
       "output_type": "stream",
       "stream": "stdout",
       "text": [
        "\n",
        "Processing: mtclim_irrad_39.59375_-119.15625.gz"
       ]
      },
      {
       "output_type": "stream",
       "stream": "stdout",
       "text": [
        "\n",
        "Processing: mtclim_irrad_39.59375_-119.21875.gz"
       ]
      },
      {
       "output_type": "stream",
       "stream": "stdout",
       "text": [
        "\n",
        "Processing: mtclim_irrad_39.59375_-119.28125.gz"
       ]
      },
      {
       "output_type": "stream",
       "stream": "stdout",
       "text": [
        "\n",
        "Processing: mtclim_irrad_39.59375_-119.34375.gz"
       ]
      },
      {
       "output_type": "stream",
       "stream": "stdout",
       "text": [
        "\n",
        "Processing: mtclim_irrad_39.59375_-119.40625.gz"
       ]
      },
      {
       "output_type": "stream",
       "stream": "stdout",
       "text": [
        "\n",
        "Processing: mtclim_irrad_39.59375_-119.46875.gz"
       ]
      },
      {
       "output_type": "stream",
       "stream": "stdout",
       "text": [
        "\n",
        "Processing: mtclim_irrad_39.59375_-119.53125.gz"
       ]
      },
      {
       "output_type": "stream",
       "stream": "stdout",
       "text": [
        "\n",
        "Processing: mtclim_irrad_39.59375_-119.59375.gz"
       ]
      },
      {
       "output_type": "stream",
       "stream": "stdout",
       "text": [
        "\n",
        "Processing: mtclim_irrad_39.59375_-119.65625.gz"
       ]
      },
      {
       "output_type": "stream",
       "stream": "stdout",
       "text": [
        "\n",
        "Processing: mtclim_irrad_39.59375_-119.71875.gz"
       ]
      },
      {
       "output_type": "stream",
       "stream": "stdout",
       "text": [
        "\n",
        "Processing: mtclim_irrad_39.59375_-119.78125.gz"
       ]
      },
      {
       "output_type": "stream",
       "stream": "stdout",
       "text": [
        "\n",
        "Processing: mtclim_irrad_39.59375_-119.84375.gz"
       ]
      },
      {
       "output_type": "stream",
       "stream": "stdout",
       "text": [
        "\n",
        "Processing: mtclim_irrad_39.59375_-119.90625.gz"
       ]
      },
      {
       "output_type": "stream",
       "stream": "stdout",
       "text": [
        "\n",
        "Processing: mtclim_irrad_39.59375_-119.96875.gz"
       ]
      },
      {
       "output_type": "stream",
       "stream": "stdout",
       "text": [
        "\n",
        "Processing: mtclim_irrad_39.59375_-120.03125.gz"
       ]
      },
      {
       "output_type": "stream",
       "stream": "stdout",
       "text": [
        "\n",
        "Processing: mtclim_irrad_39.59375_-120.09375.gz"
       ]
      },
      {
       "output_type": "stream",
       "stream": "stdout",
       "text": [
        "\n",
        "Processing: mtclim_irrad_39.59375_-120.15625.gz"
       ]
      },
      {
       "output_type": "stream",
       "stream": "stdout",
       "text": [
        "\n",
        "Processing: mtclim_irrad_39.59375_-120.21875.gz"
       ]
      },
      {
       "output_type": "stream",
       "stream": "stdout",
       "text": [
        "\n",
        "Processing: mtclim_irrad_39.59375_-120.28125.gz"
       ]
      },
      {
       "output_type": "stream",
       "stream": "stdout",
       "text": [
        "\n",
        "Processing: mtclim_irrad_39.59375_-120.34375.gz"
       ]
      },
      {
       "output_type": "stream",
       "stream": "stdout",
       "text": [
        "\n",
        "Processing: mtclim_irrad_39.59375_-120.40625.gz"
       ]
      },
      {
       "output_type": "stream",
       "stream": "stdout",
       "text": [
        "\n",
        "Processing: mtclim_irrad_39.59375_-120.46875.gz"
       ]
      },
      {
       "output_type": "stream",
       "stream": "stdout",
       "text": [
        "\n",
        "Processing: mtclim_irrad_39.59375_-120.53125.gz"
       ]
      },
      {
       "output_type": "stream",
       "stream": "stdout",
       "text": [
        "\n",
        "Processing: mtclim_irrad_39.59375_-120.59375.gz"
       ]
      },
      {
       "output_type": "stream",
       "stream": "stdout",
       "text": [
        "\n",
        "Processing: mtclim_irrad_39.59375_-120.65625.gz"
       ]
      },
      {
       "output_type": "stream",
       "stream": "stdout",
       "text": [
        "\n",
        "Processing: mtclim_irrad_39.59375_-120.71875.gz"
       ]
      },
      {
       "output_type": "stream",
       "stream": "stdout",
       "text": [
        "\n",
        "Processing: mtclim_irrad_39.59375_-120.78125.gz"
       ]
      },
      {
       "output_type": "stream",
       "stream": "stdout",
       "text": [
        "\n",
        "Processing: mtclim_irrad_39.59375_-120.84375.gz"
       ]
      },
      {
       "output_type": "stream",
       "stream": "stdout",
       "text": [
        "\n",
        "Processing: mtclim_irrad_39.59375_-120.90625.gz"
       ]
      },
      {
       "output_type": "stream",
       "stream": "stdout",
       "text": [
        "\n",
        "Processing: mtclim_irrad_39.59375_-120.96875.gz"
       ]
      },
      {
       "output_type": "stream",
       "stream": "stdout",
       "text": [
        "\n",
        "Processing: mtclim_irrad_39.59375_-121.03125.gz"
       ]
      },
      {
       "output_type": "stream",
       "stream": "stdout",
       "text": [
        "\n",
        "Processing: mtclim_irrad_39.59375_-121.09375.gz"
       ]
      },
      {
       "output_type": "stream",
       "stream": "stdout",
       "text": [
        "\n",
        "Processing: mtclim_irrad_39.59375_-121.15625.gz"
       ]
      },
      {
       "output_type": "stream",
       "stream": "stdout",
       "text": [
        "\n",
        "Processing: mtclim_irrad_39.59375_-121.21875.gz"
       ]
      },
      {
       "output_type": "stream",
       "stream": "stdout",
       "text": [
        "\n",
        "Processing: mtclim_irrad_39.59375_-121.28125.gz"
       ]
      },
      {
       "output_type": "stream",
       "stream": "stdout",
       "text": [
        "\n",
        "Processing: mtclim_irrad_39.59375_-121.34375.gz"
       ]
      },
      {
       "output_type": "stream",
       "stream": "stdout",
       "text": [
        "\n",
        "Processing: mtclim_irrad_39.59375_-121.40625.gz"
       ]
      },
      {
       "output_type": "stream",
       "stream": "stdout",
       "text": [
        "\n",
        "Processing: mtclim_irrad_39.59375_-121.46875.gz"
       ]
      },
      {
       "output_type": "stream",
       "stream": "stdout",
       "text": [
        "\n",
        "Processing: mtclim_irrad_39.59375_-121.53125.gz"
       ]
      },
      {
       "output_type": "stream",
       "stream": "stdout",
       "text": [
        "\n",
        "Processing: mtclim_irrad_39.59375_-121.59375.gz"
       ]
      },
      {
       "output_type": "stream",
       "stream": "stdout",
       "text": [
        "\n",
        "Processing: mtclim_irrad_39.59375_-121.65625.gz"
       ]
      },
      {
       "output_type": "stream",
       "stream": "stdout",
       "text": [
        "\n",
        "Processing: mtclim_irrad_39.59375_-121.71875.gz"
       ]
      },
      {
       "output_type": "stream",
       "stream": "stdout",
       "text": [
        "\n",
        "Processing: mtclim_irrad_39.59375_-121.78125.gz"
       ]
      },
      {
       "output_type": "stream",
       "stream": "stdout",
       "text": [
        "\n",
        "Processing: mtclim_irrad_39.59375_-121.84375.gz"
       ]
      },
      {
       "output_type": "stream",
       "stream": "stdout",
       "text": [
        "\n",
        "Processing: mtclim_irrad_39.59375_-121.90625.gz"
       ]
      },
      {
       "output_type": "stream",
       "stream": "stdout",
       "text": [
        "\n",
        "Processing: mtclim_irrad_39.59375_-121.96875.gz"
       ]
      },
      {
       "output_type": "stream",
       "stream": "stdout",
       "text": [
        "\n",
        "Processing: mtclim_irrad_39.59375_-122.03125.gz"
       ]
      },
      {
       "output_type": "stream",
       "stream": "stdout",
       "text": [
        "\n",
        "Processing: mtclim_irrad_39.59375_-122.09375.gz"
       ]
      },
      {
       "output_type": "stream",
       "stream": "stdout",
       "text": [
        "\n",
        "Processing: mtclim_irrad_39.59375_-122.15625.gz"
       ]
      },
      {
       "output_type": "stream",
       "stream": "stdout",
       "text": [
        "\n",
        "Processing: mtclim_irrad_39.59375_-122.21875.gz"
       ]
      },
      {
       "output_type": "stream",
       "stream": "stdout",
       "text": [
        "\n",
        "Processing: mtclim_irrad_39.59375_-122.28125.gz"
       ]
      },
      {
       "output_type": "stream",
       "stream": "stdout",
       "text": [
        "\n",
        "Processing: mtclim_irrad_39.59375_-122.34375.gz"
       ]
      },
      {
       "output_type": "stream",
       "stream": "stdout",
       "text": [
        "\n",
        "Processing: mtclim_irrad_39.59375_-122.40625.gz"
       ]
      },
      {
       "output_type": "stream",
       "stream": "stdout",
       "text": [
        "\n",
        "Processing: mtclim_irrad_39.59375_-122.46875.gz"
       ]
      },
      {
       "output_type": "stream",
       "stream": "stdout",
       "text": [
        "\n",
        "Processing: mtclim_irrad_39.59375_-122.53125.gz"
       ]
      },
      {
       "output_type": "stream",
       "stream": "stdout",
       "text": [
        "\n",
        "Processing: mtclim_irrad_39.59375_-122.59375.gz"
       ]
      },
      {
       "output_type": "stream",
       "stream": "stdout",
       "text": [
        "\n",
        "Processing: mtclim_irrad_39.59375_-122.65625.gz"
       ]
      },
      {
       "output_type": "stream",
       "stream": "stdout",
       "text": [
        "\n",
        "Processing: mtclim_irrad_39.59375_-122.71875.gz"
       ]
      },
      {
       "output_type": "stream",
       "stream": "stdout",
       "text": [
        "\n",
        "Processing: mtclim_irrad_39.59375_-122.78125.gz"
       ]
      },
      {
       "output_type": "stream",
       "stream": "stdout",
       "text": [
        "\n",
        "Processing: mtclim_irrad_39.59375_-122.84375.gz"
       ]
      },
      {
       "output_type": "stream",
       "stream": "stdout",
       "text": [
        "\n",
        "Processing: mtclim_irrad_39.59375_-122.90625.gz"
       ]
      },
      {
       "output_type": "stream",
       "stream": "stdout",
       "text": [
        "\n",
        "Processing: mtclim_irrad_39.59375_-122.96875.gz"
       ]
      },
      {
       "output_type": "stream",
       "stream": "stdout",
       "text": [
        "\n",
        "Processing: mtclim_irrad_39.59375_-123.03125.gz"
       ]
      },
      {
       "output_type": "stream",
       "stream": "stdout",
       "text": [
        "\n",
        "Processing: mtclim_irrad_39.59375_-123.09375.gz"
       ]
      },
      {
       "output_type": "stream",
       "stream": "stdout",
       "text": [
        "\n",
        "Processing: mtclim_irrad_39.59375_-123.15625.gz"
       ]
      },
      {
       "output_type": "stream",
       "stream": "stdout",
       "text": [
        "\n",
        "Processing: mtclim_irrad_39.59375_-123.21875.gz"
       ]
      },
      {
       "output_type": "stream",
       "stream": "stdout",
       "text": [
        "\n",
        "Processing: mtclim_irrad_39.59375_-123.28125.gz"
       ]
      },
      {
       "output_type": "stream",
       "stream": "stdout",
       "text": [
        "\n",
        "Processing: mtclim_irrad_39.59375_-123.34375.gz"
       ]
      },
      {
       "output_type": "stream",
       "stream": "stdout",
       "text": [
        "\n",
        "Processing: mtclim_irrad_39.59375_-123.40625.gz"
       ]
      },
      {
       "output_type": "stream",
       "stream": "stdout",
       "text": [
        "\n",
        "Processing: mtclim_irrad_39.59375_-123.46875.gz"
       ]
      },
      {
       "output_type": "stream",
       "stream": "stdout",
       "text": [
        "\n",
        "Processing: mtclim_irrad_39.59375_-123.53125.gz"
       ]
      },
      {
       "output_type": "stream",
       "stream": "stdout",
       "text": [
        "\n",
        "Processing: mtclim_irrad_39.59375_-123.59375.gz"
       ]
      },
      {
       "output_type": "stream",
       "stream": "stdout",
       "text": [
        "\n",
        "Processing: mtclim_irrad_39.59375_-123.65625.gz"
       ]
      },
      {
       "output_type": "stream",
       "stream": "stdout",
       "text": [
        "\n",
        "Processing: mtclim_irrad_39.59375_-123.71875.gz"
       ]
      },
      {
       "output_type": "stream",
       "stream": "stdout",
       "text": [
        "\n",
        "Processing: mtclim_irrad_41.90625_-115.03125.gz"
       ]
      },
      {
       "output_type": "stream",
       "stream": "stdout",
       "text": [
        "\n",
        "Processing: mtclim_irrad_41.90625_-115.09375.gz"
       ]
      },
      {
       "output_type": "stream",
       "stream": "stdout",
       "text": [
        "\n",
        "Processing: mtclim_irrad_41.90625_-115.15625.gz"
       ]
      },
      {
       "output_type": "stream",
       "stream": "stdout",
       "text": [
        "\n",
        "Processing: mtclim_irrad_41.90625_-115.21875.gz"
       ]
      },
      {
       "output_type": "stream",
       "stream": "stdout",
       "text": [
        "\n",
        "Processing: mtclim_irrad_41.90625_-115.28125.gz"
       ]
      },
      {
       "output_type": "stream",
       "stream": "stdout",
       "text": [
        "\n",
        "Processing: mtclim_irrad_41.90625_-115.34375.gz"
       ]
      },
      {
       "output_type": "stream",
       "stream": "stdout",
       "text": [
        "\n",
        "Processing: mtclim_irrad_41.90625_-115.40625.gz"
       ]
      },
      {
       "output_type": "stream",
       "stream": "stdout",
       "text": [
        "\n",
        "Processing: mtclim_irrad_41.90625_-115.46875.gz"
       ]
      },
      {
       "output_type": "stream",
       "stream": "stdout",
       "text": [
        "\n",
        "Processing: mtclim_irrad_41.90625_-115.53125.gz"
       ]
      },
      {
       "output_type": "stream",
       "stream": "stdout",
       "text": [
        "\n",
        "Processing: mtclim_irrad_41.90625_-115.59375.gz"
       ]
      },
      {
       "output_type": "stream",
       "stream": "stdout",
       "text": [
        "\n",
        "Processing: mtclim_irrad_41.90625_-115.65625.gz"
       ]
      },
      {
       "output_type": "stream",
       "stream": "stdout",
       "text": [
        "\n",
        "Processing: mtclim_irrad_41.90625_-115.71875.gz"
       ]
      },
      {
       "output_type": "stream",
       "stream": "stdout",
       "text": [
        "\n",
        "Processing: mtclim_irrad_41.90625_-115.78125.gz"
       ]
      },
      {
       "output_type": "stream",
       "stream": "stdout",
       "text": [
        "\n",
        "Processing: mtclim_irrad_41.90625_-115.84375.gz"
       ]
      },
      {
       "output_type": "stream",
       "stream": "stdout",
       "text": [
        "\n",
        "Processing: mtclim_irrad_41.90625_-115.90625.gz"
       ]
      },
      {
       "output_type": "stream",
       "stream": "stdout",
       "text": [
        "\n",
        "Processing: mtclim_irrad_41.90625_-115.96875.gz"
       ]
      },
      {
       "output_type": "stream",
       "stream": "stdout",
       "text": [
        "\n",
        "Processing: mtclim_irrad_41.90625_-116.03125.gz"
       ]
      },
      {
       "output_type": "stream",
       "stream": "stdout",
       "text": [
        "\n",
        "Processing: mtclim_irrad_41.90625_-116.09375.gz"
       ]
      },
      {
       "output_type": "stream",
       "stream": "stdout",
       "text": [
        "\n",
        "Processing: mtclim_irrad_41.90625_-116.15625.gz"
       ]
      },
      {
       "output_type": "stream",
       "stream": "stdout",
       "text": [
        "\n",
        "Processing: mtclim_irrad_41.90625_-116.21875.gz"
       ]
      },
      {
       "output_type": "stream",
       "stream": "stdout",
       "text": [
        "\n",
        "Processing: mtclim_irrad_41.90625_-116.28125.gz"
       ]
      },
      {
       "output_type": "stream",
       "stream": "stdout",
       "text": [
        "\n",
        "Processing: mtclim_irrad_41.90625_-116.34375.gz"
       ]
      },
      {
       "output_type": "stream",
       "stream": "stdout",
       "text": [
        "\n",
        "Processing: mtclim_irrad_41.90625_-116.40625.gz"
       ]
      },
      {
       "output_type": "stream",
       "stream": "stdout",
       "text": [
        "\n",
        "Processing: mtclim_irrad_41.90625_-116.46875.gz"
       ]
      },
      {
       "output_type": "stream",
       "stream": "stdout",
       "text": [
        "\n",
        "Processing: mtclim_irrad_41.90625_-116.53125.gz"
       ]
      },
      {
       "output_type": "stream",
       "stream": "stdout",
       "text": [
        "\n",
        "Processing: mtclim_irrad_41.90625_-116.59375.gz"
       ]
      },
      {
       "output_type": "stream",
       "stream": "stdout",
       "text": [
        "\n",
        "Processing: mtclim_irrad_41.90625_-116.65625.gz"
       ]
      },
      {
       "output_type": "stream",
       "stream": "stdout",
       "text": [
        "\n",
        "Processing: mtclim_irrad_41.90625_-116.71875.gz"
       ]
      },
      {
       "output_type": "stream",
       "stream": "stdout",
       "text": [
        "\n",
        "Processing: mtclim_irrad_41.90625_-116.78125.gz"
       ]
      },
      {
       "output_type": "stream",
       "stream": "stdout",
       "text": [
        "\n",
        "Processing: mtclim_irrad_41.90625_-116.84375.gz"
       ]
      },
      {
       "output_type": "stream",
       "stream": "stdout",
       "text": [
        "\n",
        "Processing: mtclim_irrad_41.90625_-116.90625.gz"
       ]
      },
      {
       "output_type": "stream",
       "stream": "stdout",
       "text": [
        "\n",
        "Processing: mtclim_irrad_41.90625_-116.96875.gz"
       ]
      },
      {
       "output_type": "stream",
       "stream": "stdout",
       "text": [
        "\n",
        "Processing: mtclim_irrad_41.90625_-117.03125.gz"
       ]
      },
      {
       "output_type": "stream",
       "stream": "stdout",
       "text": [
        "\n",
        "Processing: mtclim_irrad_41.90625_-117.09375.gz"
       ]
      },
      {
       "output_type": "stream",
       "stream": "stdout",
       "text": [
        "\n",
        "Processing: mtclim_irrad_41.90625_-117.15625.gz"
       ]
      },
      {
       "output_type": "stream",
       "stream": "stdout",
       "text": [
        "\n",
        "Processing: mtclim_irrad_41.90625_-117.21875.gz"
       ]
      },
      {
       "output_type": "stream",
       "stream": "stdout",
       "text": [
        "\n",
        "Processing: mtclim_irrad_41.90625_-117.28125.gz"
       ]
      },
      {
       "output_type": "stream",
       "stream": "stdout",
       "text": [
        "\n",
        "Processing: mtclim_irrad_41.90625_-117.34375.gz"
       ]
      },
      {
       "output_type": "stream",
       "stream": "stdout",
       "text": [
        "\n",
        "Processing: mtclim_irrad_41.90625_-117.40625.gz"
       ]
      },
      {
       "output_type": "stream",
       "stream": "stdout",
       "text": [
        "\n",
        "Processing: mtclim_irrad_41.90625_-117.46875.gz"
       ]
      },
      {
       "output_type": "stream",
       "stream": "stdout",
       "text": [
        "\n",
        "Processing: mtclim_irrad_41.90625_-117.53125.gz"
       ]
      },
      {
       "output_type": "stream",
       "stream": "stdout",
       "text": [
        "\n",
        "Processing: mtclim_irrad_41.90625_-117.59375.gz"
       ]
      },
      {
       "output_type": "stream",
       "stream": "stdout",
       "text": [
        "\n",
        "Processing: mtclim_irrad_41.90625_-117.65625.gz"
       ]
      },
      {
       "output_type": "stream",
       "stream": "stdout",
       "text": [
        "\n",
        "Processing: mtclim_irrad_41.90625_-117.71875.gz"
       ]
      },
      {
       "output_type": "stream",
       "stream": "stdout",
       "text": [
        "\n",
        "Processing: mtclim_irrad_41.90625_-117.78125.gz"
       ]
      },
      {
       "output_type": "stream",
       "stream": "stdout",
       "text": [
        "\n",
        "Processing: mtclim_irrad_41.90625_-117.84375.gz"
       ]
      },
      {
       "output_type": "stream",
       "stream": "stdout",
       "text": [
        "\n",
        "Processing: mtclim_irrad_41.90625_-117.90625.gz"
       ]
      },
      {
       "output_type": "stream",
       "stream": "stdout",
       "text": [
        "\n",
        "Processing: mtclim_irrad_41.90625_-117.96875.gz"
       ]
      },
      {
       "output_type": "stream",
       "stream": "stdout",
       "text": [
        "\n",
        "Processing: mtclim_irrad_41.90625_-118.03125.gz"
       ]
      },
      {
       "output_type": "stream",
       "stream": "stdout",
       "text": [
        "\n",
        "Processing: mtclim_irrad_41.90625_-118.09375.gz"
       ]
      },
      {
       "output_type": "stream",
       "stream": "stdout",
       "text": [
        "\n",
        "Processing: mtclim_irrad_41.90625_-118.15625.gz"
       ]
      },
      {
       "output_type": "stream",
       "stream": "stdout",
       "text": [
        "\n",
        "Processing: mtclim_irrad_41.90625_-118.21875.gz"
       ]
      },
      {
       "output_type": "stream",
       "stream": "stdout",
       "text": [
        "\n",
        "Processing: mtclim_irrad_41.90625_-118.28125.gz"
       ]
      },
      {
       "output_type": "stream",
       "stream": "stdout",
       "text": [
        "\n",
        "Processing: mtclim_irrad_41.90625_-118.34375.gz"
       ]
      },
      {
       "output_type": "stream",
       "stream": "stdout",
       "text": [
        "\n",
        "Processing: mtclim_irrad_41.90625_-118.40625.gz"
       ]
      },
      {
       "output_type": "stream",
       "stream": "stdout",
       "text": [
        "\n",
        "Processing: mtclim_irrad_41.90625_-118.46875.gz"
       ]
      },
      {
       "output_type": "stream",
       "stream": "stdout",
       "text": [
        "\n",
        "Processing: mtclim_irrad_41.90625_-118.53125.gz"
       ]
      },
      {
       "output_type": "stream",
       "stream": "stdout",
       "text": [
        "\n",
        "Processing: mtclim_irrad_41.90625_-118.59375.gz"
       ]
      },
      {
       "output_type": "stream",
       "stream": "stdout",
       "text": [
        "\n",
        "Processing: mtclim_irrad_41.90625_-118.65625.gz"
       ]
      },
      {
       "output_type": "stream",
       "stream": "stdout",
       "text": [
        "\n",
        "Processing: mtclim_irrad_41.90625_-118.71875.gz"
       ]
      },
      {
       "output_type": "stream",
       "stream": "stdout",
       "text": [
        "\n",
        "Processing: mtclim_irrad_41.90625_-118.78125.gz"
       ]
      },
      {
       "output_type": "stream",
       "stream": "stdout",
       "text": [
        "\n",
        "Processing: mtclim_irrad_41.90625_-118.84375.gz"
       ]
      },
      {
       "output_type": "stream",
       "stream": "stdout",
       "text": [
        "\n",
        "Processing: mtclim_irrad_41.90625_-118.90625.gz"
       ]
      },
      {
       "output_type": "stream",
       "stream": "stdout",
       "text": [
        "\n",
        "Processing: mtclim_irrad_41.90625_-118.96875.gz"
       ]
      },
      {
       "output_type": "stream",
       "stream": "stdout",
       "text": [
        "\n",
        "Processing: mtclim_irrad_41.90625_-119.03125.gz"
       ]
      },
      {
       "output_type": "stream",
       "stream": "stdout",
       "text": [
        "\n",
        "Processing: mtclim_irrad_41.90625_-119.09375.gz"
       ]
      },
      {
       "output_type": "stream",
       "stream": "stdout",
       "text": [
        "\n",
        "Processing: mtclim_irrad_41.90625_-119.15625.gz"
       ]
      },
      {
       "output_type": "stream",
       "stream": "stdout",
       "text": [
        "\n",
        "Processing: mtclim_irrad_41.90625_-119.21875.gz"
       ]
      },
      {
       "output_type": "stream",
       "stream": "stdout",
       "text": [
        "\n",
        "Processing: mtclim_irrad_41.90625_-119.28125.gz"
       ]
      },
      {
       "output_type": "stream",
       "stream": "stdout",
       "text": [
        "\n",
        "Processing: mtclim_irrad_41.90625_-119.34375.gz"
       ]
      },
      {
       "output_type": "stream",
       "stream": "stdout",
       "text": [
        "\n",
        "Processing: mtclim_irrad_41.90625_-119.40625.gz"
       ]
      },
      {
       "output_type": "stream",
       "stream": "stdout",
       "text": [
        "\n",
        "Processing: mtclim_irrad_41.90625_-119.46875.gz"
       ]
      },
      {
       "output_type": "stream",
       "stream": "stdout",
       "text": [
        "\n",
        "Processing: mtclim_irrad_41.90625_-119.53125.gz"
       ]
      },
      {
       "output_type": "stream",
       "stream": "stdout",
       "text": [
        "\n",
        "Processing: mtclim_irrad_41.90625_-119.59375.gz"
       ]
      },
      {
       "output_type": "stream",
       "stream": "stdout",
       "text": [
        "\n",
        "Processing: mtclim_irrad_41.90625_-119.65625.gz"
       ]
      },
      {
       "output_type": "stream",
       "stream": "stdout",
       "text": [
        "\n",
        "Processing: mtclim_irrad_41.90625_-119.71875.gz"
       ]
      },
      {
       "output_type": "stream",
       "stream": "stdout",
       "text": [
        "\n",
        "Processing: mtclim_irrad_41.90625_-119.78125.gz"
       ]
      },
      {
       "output_type": "stream",
       "stream": "stdout",
       "text": [
        "\n",
        "Processing: mtclim_irrad_41.90625_-119.84375.gz"
       ]
      },
      {
       "output_type": "stream",
       "stream": "stdout",
       "text": [
        "\n",
        "Processing: mtclim_irrad_41.90625_-119.90625.gz"
       ]
      },
      {
       "output_type": "stream",
       "stream": "stdout",
       "text": [
        "\n",
        "Processing: mtclim_irrad_41.90625_-119.96875.gz"
       ]
      },
      {
       "output_type": "stream",
       "stream": "stdout",
       "text": [
        "\n",
        "Processing: mtclim_irrad_41.90625_-120.03125.gz"
       ]
      },
      {
       "output_type": "stream",
       "stream": "stdout",
       "text": [
        "\n",
        "Processing: mtclim_irrad_41.90625_-120.09375.gz"
       ]
      },
      {
       "output_type": "stream",
       "stream": "stdout",
       "text": [
        "\n",
        "Processing: mtclim_irrad_41.90625_-120.15625.gz"
       ]
      },
      {
       "output_type": "stream",
       "stream": "stdout",
       "text": [
        "\n",
        "Processing: mtclim_irrad_41.90625_-120.21875.gz"
       ]
      },
      {
       "output_type": "stream",
       "stream": "stdout",
       "text": [
        "\n",
        "Processing: mtclim_irrad_41.90625_-120.28125.gz"
       ]
      },
      {
       "output_type": "stream",
       "stream": "stdout",
       "text": [
        "\n",
        "Processing: mtclim_irrad_41.90625_-120.34375.gz"
       ]
      },
      {
       "output_type": "stream",
       "stream": "stdout",
       "text": [
        "\n",
        "Processing: mtclim_irrad_41.90625_-120.40625.gz"
       ]
      },
      {
       "output_type": "stream",
       "stream": "stdout",
       "text": [
        "\n",
        "Processing: mtclim_irrad_41.90625_-120.46875.gz"
       ]
      },
      {
       "output_type": "stream",
       "stream": "stdout",
       "text": [
        "\n",
        "Processing: mtclim_irrad_41.90625_-120.53125.gz"
       ]
      },
      {
       "output_type": "stream",
       "stream": "stdout",
       "text": [
        "\n",
        "Processing: mtclim_irrad_41.90625_-120.59375.gz"
       ]
      },
      {
       "output_type": "stream",
       "stream": "stdout",
       "text": [
        "\n",
        "Processing: mtclim_irrad_41.90625_-120.65625.gz"
       ]
      },
      {
       "output_type": "stream",
       "stream": "stdout",
       "text": [
        "\n",
        "Processing: mtclim_irrad_41.90625_-120.71875.gz"
       ]
      },
      {
       "output_type": "stream",
       "stream": "stdout",
       "text": [
        "\n",
        "Processing: mtclim_irrad_41.90625_-120.78125.gz"
       ]
      },
      {
       "output_type": "stream",
       "stream": "stdout",
       "text": [
        "\n",
        "Processing: mtclim_irrad_41.90625_-120.84375.gz"
       ]
      },
      {
       "output_type": "stream",
       "stream": "stdout",
       "text": [
        "\n",
        "Processing: mtclim_irrad_41.90625_-120.90625.gz"
       ]
      },
      {
       "output_type": "stream",
       "stream": "stdout",
       "text": [
        "\n",
        "Processing: mtclim_irrad_41.90625_-120.96875.gz"
       ]
      },
      {
       "output_type": "stream",
       "stream": "stdout",
       "text": [
        "\n",
        "Processing: mtclim_irrad_41.90625_-121.03125.gz"
       ]
      },
      {
       "output_type": "stream",
       "stream": "stdout",
       "text": [
        "\n",
        "Processing: mtclim_irrad_41.90625_-121.09375.gz"
       ]
      },
      {
       "output_type": "stream",
       "stream": "stdout",
       "text": [
        "\n",
        "Processing: mtclim_irrad_41.90625_-121.15625.gz"
       ]
      },
      {
       "output_type": "stream",
       "stream": "stdout",
       "text": [
        "\n",
        "Processing: mtclim_irrad_41.90625_-121.21875.gz"
       ]
      },
      {
       "output_type": "stream",
       "stream": "stdout",
       "text": [
        "\n",
        "Processing: mtclim_irrad_41.90625_-121.28125.gz"
       ]
      },
      {
       "output_type": "stream",
       "stream": "stdout",
       "text": [
        "\n",
        "Processing: mtclim_irrad_41.90625_-121.34375.gz"
       ]
      },
      {
       "output_type": "stream",
       "stream": "stdout",
       "text": [
        "\n",
        "Processing: mtclim_irrad_41.90625_-121.40625.gz"
       ]
      },
      {
       "output_type": "stream",
       "stream": "stdout",
       "text": [
        "\n",
        "Processing: mtclim_irrad_41.90625_-121.46875.gz"
       ]
      },
      {
       "output_type": "stream",
       "stream": "stdout",
       "text": [
        "\n",
        "Processing: mtclim_irrad_41.90625_-121.53125.gz"
       ]
      },
      {
       "output_type": "stream",
       "stream": "stdout",
       "text": [
        "\n",
        "Processing: mtclim_irrad_41.90625_-121.59375.gz"
       ]
      },
      {
       "output_type": "stream",
       "stream": "stdout",
       "text": [
        "\n",
        "Processing: mtclim_irrad_41.90625_-121.65625.gz"
       ]
      },
      {
       "output_type": "stream",
       "stream": "stdout",
       "text": [
        "\n",
        "Processing: mtclim_irrad_41.90625_-121.71875.gz"
       ]
      },
      {
       "output_type": "stream",
       "stream": "stdout",
       "text": [
        "\n",
        "Processing: mtclim_irrad_41.90625_-121.78125.gz"
       ]
      },
      {
       "output_type": "stream",
       "stream": "stdout",
       "text": [
        "\n",
        "Processing: mtclim_irrad_41.90625_-121.84375.gz"
       ]
      },
      {
       "output_type": "stream",
       "stream": "stdout",
       "text": [
        "\n",
        "Processing: mtclim_irrad_41.90625_-121.90625.gz"
       ]
      },
      {
       "output_type": "stream",
       "stream": "stdout",
       "text": [
        "\n",
        "Processing: mtclim_irrad_41.90625_-121.96875.gz"
       ]
      },
      {
       "output_type": "stream",
       "stream": "stdout",
       "text": [
        "\n",
        "Processing: mtclim_irrad_41.90625_-122.03125.gz"
       ]
      },
      {
       "output_type": "stream",
       "stream": "stdout",
       "text": [
        "\n",
        "Processing: mtclim_irrad_41.90625_-122.09375.gz"
       ]
      },
      {
       "output_type": "stream",
       "stream": "stdout",
       "text": [
        "\n",
        "Processing: mtclim_irrad_41.90625_-122.15625.gz"
       ]
      },
      {
       "output_type": "stream",
       "stream": "stdout",
       "text": [
        "\n",
        "Processing: mtclim_irrad_41.90625_-122.21875.gz"
       ]
      },
      {
       "output_type": "stream",
       "stream": "stdout",
       "text": [
        "\n",
        "Processing: mtclim_irrad_41.90625_-122.28125.gz"
       ]
      },
      {
       "output_type": "stream",
       "stream": "stdout",
       "text": [
        "\n",
        "Processing: mtclim_irrad_41.90625_-122.34375.gz"
       ]
      },
      {
       "output_type": "stream",
       "stream": "stdout",
       "text": [
        "\n",
        "Processing: mtclim_irrad_41.90625_-122.40625.gz"
       ]
      },
      {
       "output_type": "stream",
       "stream": "stdout",
       "text": [
        "\n",
        "Processing: mtclim_irrad_41.90625_-122.46875.gz"
       ]
      },
      {
       "output_type": "stream",
       "stream": "stdout",
       "text": [
        "\n",
        "Processing: mtclim_irrad_41.90625_-122.53125.gz"
       ]
      },
      {
       "output_type": "stream",
       "stream": "stdout",
       "text": [
        "\n",
        "Processing: mtclim_irrad_41.90625_-122.59375.gz"
       ]
      },
      {
       "output_type": "stream",
       "stream": "stdout",
       "text": [
        "\n",
        "Processing: mtclim_irrad_41.90625_-122.65625.gz"
       ]
      },
      {
       "output_type": "stream",
       "stream": "stdout",
       "text": [
        "\n",
        "Processing: mtclim_irrad_41.90625_-122.71875.gz"
       ]
      },
      {
       "output_type": "stream",
       "stream": "stdout",
       "text": [
        "\n",
        "Processing: mtclim_irrad_41.90625_-122.78125.gz"
       ]
      },
      {
       "output_type": "stream",
       "stream": "stdout",
       "text": [
        "\n",
        "Processing: mtclim_irrad_41.90625_-122.84375.gz"
       ]
      },
      {
       "output_type": "stream",
       "stream": "stdout",
       "text": [
        "\n",
        "Processing: mtclim_irrad_41.90625_-122.90625.gz"
       ]
      },
      {
       "output_type": "stream",
       "stream": "stdout",
       "text": [
        "\n",
        "Processing: mtclim_irrad_41.90625_-122.96875.gz"
       ]
      },
      {
       "output_type": "stream",
       "stream": "stdout",
       "text": [
        "\n",
        "Processing: mtclim_irrad_41.90625_-123.03125.gz"
       ]
      },
      {
       "output_type": "stream",
       "stream": "stdout",
       "text": [
        "\n",
        "Processing: mtclim_irrad_41.90625_-123.09375.gz"
       ]
      },
      {
       "output_type": "stream",
       "stream": "stdout",
       "text": [
        "\n",
        "Processing: mtclim_irrad_41.90625_-123.15625.gz"
       ]
      },
      {
       "output_type": "stream",
       "stream": "stdout",
       "text": [
        "\n",
        "Processing: mtclim_irrad_41.90625_-123.21875.gz"
       ]
      },
      {
       "output_type": "stream",
       "stream": "stdout",
       "text": [
        "\n",
        "Processing: mtclim_irrad_41.90625_-123.28125.gz"
       ]
      },
      {
       "output_type": "stream",
       "stream": "stdout",
       "text": [
        "\n",
        "Processing: mtclim_irrad_41.90625_-123.34375.gz"
       ]
      },
      {
       "output_type": "stream",
       "stream": "stdout",
       "text": [
        "\n",
        "Processing: mtclim_irrad_41.90625_-123.40625.gz"
       ]
      },
      {
       "output_type": "stream",
       "stream": "stdout",
       "text": [
        "\n",
        "Processing: mtclim_irrad_41.90625_-123.46875.gz"
       ]
      },
      {
       "output_type": "stream",
       "stream": "stdout",
       "text": [
        "\n",
        "Processing: mtclim_irrad_41.90625_-123.53125.gz"
       ]
      },
      {
       "output_type": "stream",
       "stream": "stdout",
       "text": [
        "\n",
        "Processing: mtclim_irrad_41.90625_-123.59375.gz"
       ]
      },
      {
       "output_type": "stream",
       "stream": "stdout",
       "text": [
        "\n",
        "Processing: mtclim_irrad_41.90625_-123.65625.gz"
       ]
      },
      {
       "output_type": "stream",
       "stream": "stdout",
       "text": [
        "\n",
        "Processing: mtclim_irrad_41.90625_-123.71875.gz"
       ]
      },
      {
       "output_type": "stream",
       "stream": "stdout",
       "text": [
        "\n",
        "Processing: mtclim_irrad_41.90625_-123.78125.gz"
       ]
      },
      {
       "output_type": "stream",
       "stream": "stdout",
       "text": [
        "\n",
        "Processing: mtclim_irrad_41.90625_-123.84375.gz"
       ]
      },
      {
       "output_type": "stream",
       "stream": "stdout",
       "text": [
        "\n",
        "Processing: mtclim_irrad_41.90625_-123.90625.gz"
       ]
      },
      {
       "output_type": "stream",
       "stream": "stdout",
       "text": [
        "\n",
        "Processing: mtclim_irrad_41.90625_-123.96875.gz"
       ]
      },
      {
       "output_type": "stream",
       "stream": "stdout",
       "text": [
        "\n",
        "Processing: mtclim_irrad_41.90625_-124.03125.gz"
       ]
      },
      {
       "output_type": "stream",
       "stream": "stdout",
       "text": [
        "\n",
        "Processing: mtclim_irrad_41.90625_-124.09375.gz"
       ]
      },
      {
       "output_type": "stream",
       "stream": "stdout",
       "text": [
        "\n"
       ]
      }
     ],
     "prompt_number": 5
    },
    {
     "cell_type": "code",
     "collapsed": false,
     "input": [
      "# Extract only within rectangular domain - use this index variable for data extraction from netcdf\n",
      "ind_lat_s_rect = np.flatnonzero( (lat > LR_rect[1]) & (lat < UL_rect[1]) )\n",
      "ind_lon_s_rect = np.flatnonzero( (lon < LR_rect[0]) & (lon > LL_rect[0]) )\n",
      "\n",
      "# 2D array of lat-lon for operands below\n",
      "lat_m,lon_m = np.meshgrid(lat[ind_lat_s_rect],lon[ind_lon_s_rect])\n",
      "\n",
      "# Indices for extracting from numpy array\n",
      "ind_lat_rect, ind_lon_rect = np.nonzero( (lat_m > LR_rect[1]) & (lat_m < UL_rect[1]) \\\n",
      "                                            & (lon_m < LR_rect[0]) & (lon_m > LL_rect[0]) )\n",
      "\n",
      "## Ragged domain, CA study area - indices for NaN'ing data outside \n",
      "line_west_m = (UL_rag[1]-LL_rag[1])/(UL_rag[0]-LL_rag[0])\n",
      "line_west_b = LL_rag[1]-line_west_m*LL_rag[0]\n",
      "line_east_m = (UR_rag[1]-LR_rag[1])/(UR_rag[0]-LR_rag[0])\n",
      "line_east_b = LR_rag[1]-line_east_m*LR_rag[0]\n",
      "#ind = np.flatnonzero( (lon_m > (lat_m-line_west_b)/line_west_m) & (lon_m < (lat_m-line_east_b)/line_east_m) \\\n",
      "#                         & (lat_m > LR[1]) & (lat_m < UL[1]))\n",
      "ind_lon_rag,ind_lat_rag = np.nonzero( (lon_m < (lat_m-line_west_b)/line_west_m) | (lon_m > (lat_m-line_east_b)/line_east_m) \\\n",
      "                 | (lat_m < LR_rag[1]) | (lat_m > UL_rag[1]))"
     ],
     "language": "python",
     "metadata": {},
     "outputs": [],
     "prompt_number": 6
    },
    {
     "cell_type": "code",
     "collapsed": false,
     "input": [
      "## CA domain\n",
      "# Let's hack python cause it is totally mental\n",
      "# Trim to rectangular domain\n",
      "SWdwn_out = SWdwn[:,ind_lat_s_rect.min():ind_lat_s_rect.max()+1,ind_lon_s_rect.min():ind_lon_s_rect.max()+1]\n",
      "LWdwn_out = LWdwn[:,ind_lat_s_rect.min():ind_lat_s_rect.max()+1,ind_lon_s_rect.min():ind_lon_s_rect.max()+1]\n",
      "# NaN data outside \n",
      "SWdwn_out[:,ind_lat_rag,ind_lon_rag] = np.nan\n",
      "LWdwn_out[:,ind_lat_rag,ind_lon_rag] = np.nan\n",
      "\n",
      "## No sorting by date--output is already sorted\n",
      "\n",
      "## Output variables/parameters\n",
      "lat_out = lat[ind_lat_s_rect]\n",
      "lon_out = lon[ind_lon_s_rect]\n",
      "nlat = lat_out.shape[0]\n",
      "nlon = lon_out.shape[0]\n",
      "\n",
      "## Open netcdf for writing, remove and re-write if previous file version\n",
      "os.chdir(outdir)\n",
      "if os.path.isfile(fname):\n",
      "    os.remove(fname)\n",
      "ncfile = Dataset(fname,'w')\n",
      "\n",
      "# # create the lat, lon, time dimensions.\n",
      "ncfile.createDimension('latitude',nlat)\n",
      "ncfile.createDimension('longitude',nlon)\n",
      "ncfile.createDimension('time',ndates)\n",
      "\n",
      "## Define the coordinate variables\n",
      "lat_nc_out = ncfile.createVariable('latitude',np.float32,('latitude',))\n",
      "lon_nc_out = ncfile.createVariable('longitude',np.float32,('longitude',))\n",
      "t_out = ncfile.createVariable('time',np.float64, ('time',))\n",
      "\n",
      "## Assign units attributes to coordinate vars\n",
      "lat_nc_out.units = 'degrees_north'\n",
      "lon_nc_out.units = 'degrees_east'\n",
      "t_out.units = 'hours since 0001-01-01 00:00:00.0'\n",
      "t_out.calendar = 'gregorian'\n",
      "\n",
      "## write data to coordinate vars.\n",
      "lat_nc_out[:] = lat_out\n",
      "lon_nc_out[:] = lon_out\n",
      "t_out[:] = date2num(dates.to_pydatetime(),\n",
      "            units=t_out.units,\n",
      "            calendar=t_out.calendar)\n",
      "\n",
      "## create output variable and units\n",
      "SWdwn_nc_out = ncfile.createVariable('SWdwn',np.float64,('time','latitude','longitude'))\n",
      "SWdwn_nc_out.units =  'W/m^2'\n",
      "SWdwn_nc_out[:,:,:] = SWdwn_out\n",
      "\n",
      "LWdwn_nc_out = ncfile.createVariable('LWdwn',np.float64,('time','latitude','longitude'))\n",
      "LWdwn_nc_out.units =  'W/m^2'\n",
      "LWdwn_nc_out[:,:,:] = LWdwn_out\n",
      "\n",
      "ncfile.close()"
     ],
     "language": "python",
     "metadata": {},
     "outputs": [],
     "prompt_number": 41
    },
    {
     "cell_type": "code",
     "collapsed": false,
     "input": [
      "print(SWdwn_nc_out)\n"
     ],
     "language": "python",
     "metadata": {},
     "outputs": [
      {
       "ename": "RuntimeError",
       "evalue": "NetCDF: Not a valid ID",
       "output_type": "pyerr",
       "traceback": [
        "\u001b[0;31m---------------------------------------------------------------------------\u001b[0m\n\u001b[0;31mRuntimeError\u001b[0m                              Traceback (most recent call last)",
        "\u001b[0;32m<ipython-input-42-8536077c7d55>\u001b[0m in \u001b[0;36m<module>\u001b[0;34m()\u001b[0m\n\u001b[0;32m----> 1\u001b[0;31m \u001b[0;32mprint\u001b[0m\u001b[0;34m(\u001b[0m\u001b[0mSWdwn_nc_out\u001b[0m\u001b[0;34m)\u001b[0m\u001b[0;34m\u001b[0m\u001b[0m\n\u001b[0m",
        "\u001b[0;32m/Users/karllapo/anaconda/lib/python2.7/site-packages/netCDF4.so\u001b[0m in \u001b[0;36mnetCDF4.Variable.__str__ (netCDF4.c:29856)\u001b[0;34m()\u001b[0m\n",
        "\u001b[0;32m/Users/karllapo/anaconda/lib/python2.7/site-packages/netCDF4.so\u001b[0m in \u001b[0;36mnetCDF4.Variable.__unicode__ (netCDF4.c:29974)\u001b[0;34m()\u001b[0m\n",
        "\u001b[0;32m/Users/karllapo/anaconda/lib/python2.7/site-packages/netCDF4.so\u001b[0m in \u001b[0;36mnetCDF4.Variable.dimensions.__get__ (netCDF4.c:31511)\u001b[0;34m()\u001b[0m\n",
        "\u001b[0;32m/Users/karllapo/anaconda/lib/python2.7/site-packages/netCDF4.so\u001b[0m in \u001b[0;36mnetCDF4.Variable._getdims (netCDF4.c:30868)\u001b[0;34m()\u001b[0m\n",
        "\u001b[0;31mRuntimeError\u001b[0m: NetCDF: Not a valid ID"
       ]
      }
     ],
     "prompt_number": 42
    }
   ],
   "metadata": {}
  }
 ]
}