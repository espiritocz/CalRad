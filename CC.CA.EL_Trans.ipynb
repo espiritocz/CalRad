{
 "metadata": {
  "name": ""
 },
 "nbformat": 3,
 "nbformat_minor": 0,
 "worksheets": [
  {
   "cells": [
    {
     "cell_type": "code",
     "collapsed": false,
     "input": [
      "##### Header #####\n",
      "# Calculates EL and trans for all data sets over CA study area\n",
      "\n",
      "# must insert this statement to render the plots within the notebook\n",
      "# this is specific to the ipython notebook\n",
      "%matplotlib inline\n",
      "\n",
      "## FLAGS for processing\n",
      "\n",
      "## Import statements\n",
      "# netcdf/numpy/xray\n",
      "from netCDF4 import Dataset\n",
      "from netCDF4 import num2date, date2num\n",
      "import numpy as np\n",
      "from datetime import datetime, timedelta\n",
      "import xray\n",
      "\n",
      "# OS interaction\n",
      "import sys\n",
      "import os\n",
      "\n",
      "# solargeometry\n",
      "import solargeo\n",
      "\n",
      "# import subplots function for plotting\n",
      "from matplotlib.pyplot import subplots\n",
      "import matplotlib.pyplot as plt\n",
      "from matplotlib import cm\n",
      "from mpl_toolkits.basemap import Basemap\n",
      "\n",
      "## Directory of .nc files\n",
      "workdir = '/Users/karllapo/gdrive/SnowHydrology/proj/CloudClimatology/data/'\n",
      "printdir = '/Users/karllapo/gdrive/SnowHydrology/proj/CloudClimatology/Graphics'\n",
      "\n",
      "# List of sub-directory names for each data set\n",
      "datadir_for_import = 'NLDAS' "
     ],
     "language": "python",
     "metadata": {},
     "outputs": []
    },
    {
     "cell_type": "code",
     "collapsed": false,
     "input": [
      "# Elevation angle and transmissivity\n",
      "t_size = ds.indexes['time'].shape[0]\n",
      "EL = np.zeros((nlon,nlat,t_size))\n",
      "yyyy = np.zeros(t_size)\n",
      "jday = np.zeros(t_size)\n",
      "hh = np.zeros(t_size)\n",
      "\n",
      "for ind,time_step in enumerate(ds.indexes['time']):\n",
      "    yyyy[ind] = np.array([time_step.year])\n",
      "    jday[ind] = np.array([time_step.timetuple().tm_yday])\n",
      "    hh[ind] = np.array([time_step.hour+time_step.minute/60.])\n",
      "\n",
      "# mesh lat, lon, and time variables\n",
      "lat_m,lon_m,yyyy_m = np.meshgrid(lat,lon,yyyy)\n",
      "jday_m = np.meshgrid(lat,lon,jday)[2]\n",
      "hh_m = np.meshgrid(lat,lon,hh)[2]\n",
      "\n",
      "# Elevation Angle (inst.) @ all times and locations in study area\n",
      "EL = solargeo.SUNAE(yyyy_m,jday_m,hh_m,lat_m,lon_m,refraction_flag=0)[0]"
     ],
     "language": "python",
     "metadata": {},
     "outputs": []
    }
   ],
   "metadata": {}
  }
 ]
}