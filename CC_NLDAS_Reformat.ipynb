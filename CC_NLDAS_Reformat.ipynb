{
 "metadata": {
  "name": ""
 },
 "nbformat": 3,
 "nbformat_minor": 0,
 "worksheets": [
  {
   "cells": [
    {
     "cell_type": "code",
     "collapsed": false,
     "input": [
      "# Compile and write NLDAS SWdwn over the CA study area for Jan 2005 (example)\n",
      "# netcdf\n",
      "from netCDF4 import Dataset,num2date, date2num\n",
      "import numpy as np\n",
      "from datetime import datetime, timedelta\n",
      "\n",
      "# OS interaction\n",
      "import sys\n",
      "import os\n",
      "\n",
      "# Graphing\n",
      "import matplotlib.pyplot as plt\n",
      "from matplotlib import cm\n",
      "from mpl_toolkits.basemap import Basemap"
     ],
     "language": "python",
     "metadata": {},
     "outputs": [],
     "prompt_number": 40
    },
    {
     "cell_type": "code",
     "collapsed": false,
     "input": [
      "# Output file name\n",
      "fname = '../../NLDAS_Jan_SWdwn.nc'\n",
      "\n",
      "# Directory of .nc files\n",
      "wd = '/Users/karllapo/Desktop/UW/DATA/NLDAS_Jan2005/test'\n",
      "os.chdir(wd)\n",
      "content = os.listdir(os.getcwd())\n",
      "num_files = len([name for name in os.listdir('.') if os.path.isfile(name)])\n",
      "\n",
      "# Initialize SWdwn\n",
      "SWdwn = np.empty((50,50,num_files))\n",
      "SWdwn[:] = np.nan\n",
      "# Set iteration counter\n",
      "iter = 0\n",
      "# Initialize date variable\n",
      "dates = []\n",
      "# Bounding box\n",
      "LL = [120.5,35]\n",
      "LR = [115,35]\n",
      "UR = [115,39]\n",
      "UL = [122.5,39]"
     ],
     "language": "python",
     "metadata": {},
     "outputs": [],
     "prompt_number": 41
    },
    {
     "cell_type": "code",
     "collapsed": false,
     "input": [
      "# NLDAS is stored with the CONUS as a single time slice\n",
      "# e.g., for Jan 21st, 2005 @ 15UTG: NLDAS_FORA0125_H.A20050121.1500.002.2014325204303.pss.nc\n",
      "# Iterate over nc files and store in a single netcdf structure\n",
      "for files in content:\n",
      "    # Hokey catch for NLDAS files\n",
      "    if files[-2:] == 'nc' and len(files) > 30:\n",
      "        f = Dataset(files,'r')\n",
      "        print(files)\n",
      "\n",
      "        #Bounding box for CA study area\n",
      "        lat = f.variables['lat_110'][:]\n",
      "        lon = f.variables['lon_110'][:]\n",
      "\n",
      "        # Extract only within cartesian box\n",
      "        ind_lat = np.flatnonzero( (lat > LL[1]) & (lat < UL[1]) )\n",
      "        ind_lon = np.flatnonzero( (-lon > UR[0]) & (-lon < LL[0]) )\n",
      "        SWdwn_this_time_step = f.variables['DSWRF_110_SFC'][ind_lat,ind_lon]\n",
      "        nlat = ind_lat.size \n",
      "        nlon = ind_lon.size\n",
      "        lat = lat[ind_lat]\n",
      "        lon = lon[ind_lon]\n",
      "        \n",
      "        # Fill this time slice to 3D array\n",
      "        SWdwn[0:nlat,0:nlon,iter] = SWdwn_this_time_step\n",
      "        \n",
      "        # Time stamp\n",
      "        YY = int(files[-20:-16])\n",
      "        MM = int(files[-16:-14])\n",
      "        DD = int(files[-14:-12])\n",
      "        HH = int(files[-11:-9])\n",
      "        dates.append(datetime(YY,MM,DD,HH,0,0))\n",
      "        \n",
      "        # Increment\n",
      "        iter = iter + 1"
     ],
     "language": "python",
     "metadata": {},
     "outputs": [
      {
       "output_type": "stream",
       "stream": "stdout",
       "text": [
        "NLDAS_FORA0125_H.A20050101.0000.002.nc\n",
        "NLDAS_FORA0125_H.A20050101.0100.002.nc\n",
        "NLDAS_FORA0125_H.A20050101.0200.002.nc\n",
        "NLDAS_FORA0125_H.A20050101.0300.002.nc\n",
        "NLDAS_FORA0125_H.A20050101.0400.002.nc\n",
        "NLDAS_FORA0125_H.A20050101.0500.002.nc\n",
        "NLDAS_FORA0125_H.A20050101.0600.002.nc\n",
        "NLDAS_FORA0125_H.A20050101.0700.002.nc\n",
        "NLDAS_FORA0125_H.A20050101.0800.002.nc\n",
        "NLDAS_FORA0125_H.A20050101.0900.002.nc\n",
        "NLDAS_FORA0125_H.A20050101.1000.002.nc\n",
        "NLDAS_FORA0125_H.A20050101.1100.002.nc\n",
        "NLDAS_FORA0125_H.A20050101.1200.002.nc\n",
        "NLDAS_FORA0125_H.A20050101.1300.002.nc\n",
        "NLDAS_FORA0125_H.A20050101.1400.002.nc\n",
        "NLDAS_FORA0125_H.A20050101.1500.002.nc\n",
        "NLDAS_FORA0125_H.A20050101.1600.002.nc\n",
        "NLDAS_FORA0125_H.A20050101.1700.002.nc\n",
        "NLDAS_FORA0125_H.A20050101.1800.002.nc\n",
        "NLDAS_FORA0125_H.A20050101.1900.002.nc\n",
        "NLDAS_FORA0125_H.A20050101.2000.002.nc\n",
        "NLDAS_FORA0125_H.A20050101.2100.002.nc\n",
        "NLDAS_FORA0125_H.A20050101.2200.002.nc\n",
        "NLDAS_FORA0125_H.A20050101.2300.002.nc\n"
       ]
      }
     ],
     "prompt_number": 42
    },
    {
     "cell_type": "code",
     "collapsed": false,
     "input": [
      "# Trim\n",
      "SWdwn = SWdwn[0:nlat,0:nlon,0:iter]\n",
      "\n",
      "# Open netcdf for writing, remove and re-write if previous file version\n",
      "if os.path.isfile(fname):\n",
      "    os.remove(fname)\n",
      "ncfile = Dataset(fname,'w')\n",
      "\n",
      "# create the lat, lon, time dimensions.\n",
      "ncfile.createDimension('latitude',nlat)\n",
      "ncfile.createDimension('longitude',nlon)\n",
      "ncfile.createDimension('time',None)\n",
      "\n",
      "# Define the coordinate variables (not needed for time)\n",
      "lat_nc_out = ncfile.createVariable('latitude',np.float32,('latitude',))\n",
      "lon_nc_out = ncfile.createVariable('longitude',np.float32,('longitude',))\n",
      "t_out = ncfile.createVariable('time',np.float64, ('time',))\n",
      "\n",
      "# Assign units attributes to coordinate vars\n",
      "lat_nc_out.units = 'degrees_north'\n",
      "lon_nc_out.units = 'degrees_east'\n",
      "t_out.units = 'hours since 0001-01-01 00:00:00.0'\n",
      "t_out.calendar = 'gregorian'\n",
      "\n",
      "# write data to coordinate vars.\n",
      "lat_nc_out[:] = lat\n",
      "lon_nc_out[:] = lon\n",
      "t_out[:] = date2num(dates,\n",
      "            units=t_out.units,\n",
      "            calendar=t_out.calendar)\n",
      "\n",
      "# create output variable and units\n",
      "SWdwn_nc_out = ncfile.createVariable('DSWRF_110_SFC',np.float64,('time','latitude','longitude'))\n",
      "SWdwn_nc_out.units =  'W/m^2'\n",
      "\n",
      "# write data to variables along time dimension.\n",
      "for nt in range(iter):\n",
      "    SWdwn_nc_out[nt,:,:] = SWdwn[:,:,nt]\n",
      "    \n",
      "ncfile.close()"
     ],
     "language": "python",
     "metadata": {},
     "outputs": [],
     "prompt_number": 43
    },
    {
     "cell_type": "code",
     "collapsed": false,
     "input": [
      "f = Dataset(fname,'r')\n",
      "print(f.variables['latitude'][:])"
     ],
     "language": "python",
     "metadata": {},
     "outputs": [
      {
       "output_type": "stream",
       "stream": "stdout",
       "text": [
        "[ 35.06300354  35.18800354  35.31300354  35.43800354  35.56300354\n",
        "  35.68800354  35.81300354  35.93800354  36.06300354  36.18800354\n",
        "  36.31300354  36.43800354  36.56300354  36.68800354  36.81300354\n",
        "  36.93800354  37.06300354  37.18800354  37.31300354  37.43800354\n",
        "  37.56300354  37.68800354  37.81300354  37.93800354  38.06300354\n",
        "  38.18800354  38.31300354  38.43800354  38.56300354  38.68800354\n",
        "  38.81300354  38.93800354]\n"
       ]
      }
     ],
     "prompt_number": 44
    },
    {
     "cell_type": "code",
     "collapsed": false,
     "input": [],
     "language": "python",
     "metadata": {},
     "outputs": []
    },
    {
     "cell_type": "code",
     "collapsed": false,
     "input": [],
     "language": "python",
     "metadata": {},
     "outputs": []
    }
   ],
   "metadata": {}
  }
 ]
}