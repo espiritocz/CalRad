{
 "metadata": {
  "name": ""
 },
 "nbformat": 3,
 "nbformat_minor": 0,
 "worksheets": [
  {
   "cells": [
    {
     "cell_type": "code",
     "collapsed": false,
     "input": [
      "## Speed test\n",
      "# Previous matlab script took 7 hours to run. \n",
      "# Cell block demonstrates how much faster cython is.\n",
      "import solargeometry\n",
      "import timeit\n",
      "\n",
      "def wrapper(func, *args, **kwargs):\n",
      "    def wrapped():\n",
      "        return func(*args, **kwargs)\n",
      "    return wrapped\n",
      "\n",
      "wrapped = wrapper(solargeometry.SUNAE, 1955,364,15,45,-120)\n",
      "timeit.timeit(wrapped, number=100000)\n"
     ],
     "language": "python",
     "metadata": {},
     "outputs": [
      {
       "metadata": {},
       "output_type": "pyout",
       "prompt_number": 3,
       "text": [
        "12.915282964706421"
       ]
      }
     ],
     "prompt_number": 3
    },
    {
     "cell_type": "code",
     "collapsed": false,
     "input": [],
     "language": "python",
     "metadata": {},
     "outputs": []
    }
   ],
   "metadata": {}
  }
 ]
}